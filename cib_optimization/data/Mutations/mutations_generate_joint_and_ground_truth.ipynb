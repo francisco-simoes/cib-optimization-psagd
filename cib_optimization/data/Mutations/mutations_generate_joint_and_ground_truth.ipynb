{
 "cells": [
  {
   "cell_type": "code",
   "execution_count": 2,
   "id": "238554de-0aaf-4a67-a954-a5a266912554",
   "metadata": {},
   "outputs": [],
   "source": [
    "from pgmpy.models import BayesianNetwork\n",
    "from pgmpy.factors.discrete.CPD import TabularCPD\n",
    "import numpy as np\n",
    "from IPython.display import Image\n",
    "from typing import Callable\n",
    "from itertools import product\n",
    "from pprint import pprint\n",
    "import pickle\n",
    "from itertools import product"
   ]
  },
  {
   "cell_type": "markdown",
   "id": "f7a298ce-0153-4efb-873a-11bf30f61048",
   "metadata": {},
   "source": [
    "# Mutations experiment: Generate joint distribution and ground truth"
   ]
  },
  {
   "cell_type": "markdown",
   "id": "a0c8dda2-3109-48dd-9604-154cd0bb0e08",
   "metadata": {},
   "source": [
    "We will use a bayesian network to generate the joint distribution.\n",
    "The ground truth encoder will be coded manually.\n",
    "Two pickle files will be saved with the results."
   ]
  },
  {
   "cell_type": "markdown",
   "id": "d8d1a7cd-9102-4142-8475-725388ff99ea",
   "metadata": {},
   "source": [
    "## Joint"
   ]
  },
  {
   "cell_type": "code",
   "execution_count": 3,
   "id": "0d8a555f-9285-4397-bd13-c63e3a67fcce",
   "metadata": {},
   "outputs": [],
   "source": [
    "net = BayesianNetwork()\n",
    "net.add_nodes_from(['X1', 'X2', 'X3', 'X4', 'Y', 'S'])\n",
    "net.add_edges_from(\n",
    "    [('X1', 'Y'),\n",
    "     ('X2', 'Y'),\n",
    "     ('X3', 'Y'),\n",
    "     ('S', 'X3'),\n",
    "     ('S', 'X4'),\n",
    "     ('S', 'Y')])"
   ]
  },
  {
   "cell_type": "code",
   "execution_count": 4,
   "id": "f4ff5954-c0d4-4434-99ff-116f13d9fb47",
   "metadata": {},
   "outputs": [
    {
     "data": {
      "image/png": "[encoded data removed]",
      "text/plain": [
       "<IPython.core.display.Image object>"
      ]
     },
     "execution_count": 4,
     "metadata": {},
     "output_type": "execute_result"
    }
   ],
   "source": [
    "graph = net.to_graphviz()\n",
    "graph.draw('mutations_graph.png', prog='dot')\n",
    "Image('mutations_graph.png')"
   ]
  },
  {
   "cell_type": "code",
   "execution_count": 5,
   "id": "637bb162-705d-4100-920a-1b4c56b21945",
   "metadata": {},
   "outputs": [],
   "source": [
    "# Bernoulli probabilities for the exogenous variables\n",
    "#bxi = 0.5\n",
    "bxi = 0.3\n",
    "by = 0.1\n",
    "bs = 0.5"
   ]
  },
  {
   "cell_type": "markdown",
   "id": "6f3f14bd-53f4-4ad7-b15e-6ada716d322e",
   "metadata": {},
   "source": [
    "### Define CPD tables"
   ]
  },
  {
   "cell_type": "code",
   "execution_count": 6,
   "id": "94acbda1-9658-4e72-811a-c4cb9499c1fc",
   "metadata": {},
   "outputs": [],
   "source": [
    "X1cpd_table = np.array([ [1 - bxi, bxi] ]).T\n",
    "X2cpd_table = np.array([ [1 - bxi, bxi] ]).T\n",
    "X3cpd_table = np.array([\n",
    "    [1 - bxi, bxi],\n",
    "    [bxi, 1 - bxi] \n",
    "])\n",
    "X4cpd_table = np.array([\n",
    "    [1 - bxi, bxi],\n",
    "    [bxi, 1 - bxi] \n",
    "])\n",
    "Scpd_table = np.array([ [1 - bs, bs] ]).T"
   ]
  },
  {
   "cell_type": "code",
   "execution_count": 7,
   "id": "b50ae5e7-7a73-4b26-86f7-611e89c1f612",
   "metadata": {},
   "outputs": [
    {
     "name": "stdout",
     "output_type": "stream",
     "text": [
      "[[0.9 0.9 0.  0.  0.  0.  0.  0.  0.  0.  0.  0.  0.  0.  0.  0. ]\n",
      " [0.1 0.1 0.9 0.9 0.9 0.9 0.  0.  0.9 0.9 0.  0.  0.  0.  0.  0. ]\n",
      " [0.  0.  0.1 0.1 0.1 0.1 0.  0.  0.1 0.1 0.9 0.9 0.9 0.9 0.  0. ]\n",
      " [0.  0.  0.  0.  0.  0.  0.  0.9 0.  0.  0.1 0.1 0.1 0.1 0.  0. ]\n",
      " [0.  0.  0.  0.  0.  0.  0.9 0.1 0.  0.  0.  0.  0.  0.  0.  0.9]\n",
      " [0.  0.  0.  0.  0.  0.  0.1 0.  0.  0.  0.  0.  0.  0.  0.9 0.1]\n",
      " [0.  0.  0.  0.  0.  0.  0.  0.  0.  0.  0.  0.  0.  0.  0.1 0. ]]\n"
     ]
    }
   ],
   "source": [
    "Ycpd_Seq0 = np.array([\n",
    "    [1-by, 1-by, 0.0, 0.0, 0.0, 0.0, 0.0, 0.0],\n",
    "    [by, by, 1-by, 1-by, 1-by, 1-by, 0.0, 0.0],\n",
    "    [0.0, 0.0, by, by, by, by, 0.0, 0.0],\n",
    "    [0.0, 0.0, 0.0, 0.0, 0.0, 0.0, 0.0, 1-by],\n",
    "    [0.0, 0.0, 0.0, 0.0, 0.0, 0.0, 1-by, by],\n",
    "    [0.0, 0.0, 0.0, 0.0, 0.0, 0.0, by, 0.0],\n",
    "    [0.0, 0.0, 0.0, 0.0, 0.0, 0.0, 0.0, 0.0]\n",
    "])\n",
    "Ycpd_Seq1 = np.array([\n",
    "    [0.0, 0.0, 0.0, 0.0, 0.0, 0.0, 0.0, 0.0],\n",
    "    [1-by, 1-by, 0.0, 0.0, 0.0, 0.0, 0.0, 0.0],\n",
    "    [by, by, 1-by, 1-by, 1-by, 1-by, 0.0, 0.0],\n",
    "    [0.0, 0.0, by, by, by, by, 0.0, 0.0],\n",
    "    [0.0, 0.0, 0.0, 0.0, 0.0, 0.0, 0.0, 1-by],\n",
    "    [0.0, 0.0, 0.0, 0.0, 0.0, 0.0, 1-by, by],\n",
    "    [0.0, 0.0, 0.0, 0.0, 0.0, 0.0, by, 0.0]\n",
    "])\n",
    "\n",
    "# Ycpd will just be concatenation of these:\n",
    "Ycpd_table = np.concatenate((Ycpd_Seq0, Ycpd_Seq1), axis=1)\n",
    "print(Ycpd_table)"
   ]
  },
  {
   "cell_type": "code",
   "execution_count": 8,
   "id": "5df998d6-6d14-413c-b99c-1397c9d235dc",
   "metadata": {},
   "outputs": [],
   "source": [
    "X1cpd = TabularCPD('X1',variable_card=2, values=X1cpd_table)\n",
    "X2cpd = TabularCPD('X2',variable_card=2, values=X2cpd_table)\n",
    "X3cpd = TabularCPD('X3',variable_card=2, values=X3cpd_table, evidence=['S'], evidence_card=[2])\n",
    "X4cpd = TabularCPD('X4',variable_card=2, values=X4cpd_table, evidence=['S'], evidence_card=[2])\n",
    "Ycpd = TabularCPD('Y',variable_card=7, values=Ycpd_table, evidence=['S','X1','X2','X3'], evidence_card=[2,2,2,2])\n",
    "Scpd = TabularCPD('S',variable_card=2, values=Scpd_table)"
   ]
  },
  {
   "cell_type": "code",
   "execution_count": 9,
   "id": "08c844ef-0672-4143-835a-10ef68131387",
   "metadata": {},
   "outputs": [
    {
     "name": "stdout",
     "output_type": "stream",
     "text": [
      "+------+-----+\n",
      "| S(0) | 0.5 |\n",
      "+------+-----+\n",
      "| S(1) | 0.5 |\n",
      "+------+-----+\n",
      "+-------+-----+\n",
      "| X1(0) | 0.7 |\n",
      "+-------+-----+\n",
      "| X1(1) | 0.3 |\n",
      "+-------+-----+\n",
      "+-------+------+------+\n",
      "| S     | S(0) | S(1) |\n",
      "+-------+------+------+\n",
      "| X3(0) | 0.7  | 0.3  |\n",
      "+-------+------+------+\n",
      "| X3(1) | 0.3  | 0.7  |\n",
      "+-------+------+------+\n",
      "+------+-------+-------+-------+-----+-------+-------+-------+-------+\n",
      "| S    | S(0)  | S(0)  | S(0)  | ... | S(1)  | S(1)  | S(1)  | S(1)  |\n",
      "+------+-------+-------+-------+-----+-------+-------+-------+-------+\n",
      "| X1   | X1(0) | X1(0) | X1(0) | ... | X1(1) | X1(1) | X1(1) | X1(1) |\n",
      "+------+-------+-------+-------+-----+-------+-------+-------+-------+\n",
      "| X2   | X2(0) | X2(0) | X2(1) | ... | X2(0) | X2(0) | X2(1) | X2(1) |\n",
      "+------+-------+-------+-------+-----+-------+-------+-------+-------+\n",
      "| X3   | X3(0) | X3(1) | X3(0) | ... | X3(0) | X3(1) | X3(0) | X3(1) |\n",
      "+------+-------+-------+-------+-----+-------+-------+-------+-------+\n",
      "| Y(0) | 0.9   | 0.9   | 0.0   | ... | 0.0   | 0.0   | 0.0   | 0.0   |\n",
      "+------+-------+-------+-------+-----+-------+-------+-------+-------+\n",
      "| Y(1) | 0.1   | 0.1   | 0.9   | ... | 0.0   | 0.0   | 0.0   | 0.0   |\n",
      "+------+-------+-------+-------+-----+-------+-------+-------+-------+\n",
      "| Y(2) | 0.0   | 0.0   | 0.1   | ... | 0.9   | 0.9   | 0.0   | 0.0   |\n",
      "+------+-------+-------+-------+-----+-------+-------+-------+-------+\n",
      "| Y(3) | 0.0   | 0.0   | 0.0   | ... | 0.1   | 0.1   | 0.0   | 0.0   |\n",
      "+------+-------+-------+-------+-----+-------+-------+-------+-------+\n",
      "| Y(4) | 0.0   | 0.0   | 0.0   | ... | 0.0   | 0.0   | 0.0   | 0.9   |\n",
      "+------+-------+-------+-------+-----+-------+-------+-------+-------+\n",
      "| Y(5) | 0.0   | 0.0   | 0.0   | ... | 0.0   | 0.0   | 0.9   | 0.1   |\n",
      "+------+-------+-------+-------+-----+-------+-------+-------+-------+\n",
      "| Y(6) | 0.0   | 0.0   | 0.0   | ... | 0.0   | 0.0   | 0.1   | 0.0   |\n",
      "+------+-------+-------+-------+-----+-------+-------+-------+-------+\n"
     ]
    }
   ],
   "source": [
    "print(Scpd)\n",
    "print(X1cpd)\n",
    "print(X3cpd)\n",
    "print(Ycpd)"
   ]
  },
  {
   "cell_type": "markdown",
   "id": "c3906931-4e7d-43b6-80d3-032cb0d80c81",
   "metadata": {},
   "source": [
    "### Use CPDs and network to generate joint"
   ]
  },
  {
   "cell_type": "code",
   "execution_count": 10,
   "id": "b32107ea-d2c4-4a79-bef7-2d11a762d2d4",
   "metadata": {},
   "outputs": [],
   "source": [
    "net.add_cpds(X1cpd, X2cpd, X3cpd, X4cpd, Ycpd, Scpd)\n",
    "#net.get_state_probability({\"Y\": 3})"
   ]
  },
  {
   "cell_type": "code",
   "execution_count": 11,
   "id": "eb789205-7e32-4d4b-9236-3d3aa6f86e8e",
   "metadata": {},
   "outputs": [],
   "source": [
    "vals: dict[str, list[int]] = {}\n",
    "node: str\n",
    "for node in net.nodes:\n",
    "    card: int = net.get_cardinality(node)\n",
    "    vals[node] = list(range(card))"
   ]
  },
  {
   "cell_type": "code",
   "execution_count": 12,
   "id": "777f7fda-d167-4b08-b1b4-b3c2cccc13be",
   "metadata": {},
   "outputs": [],
   "source": [
    "# What we need to compute the joint the probabilities for all combinations of values of all variables:\n",
    "all_vals: tuple[list[int]] = tuple(vals[node] for node in net.nodes)\n",
    "joint_vals: list[tuple[int]] = list(product(*all_vals))"
   ]
  },
  {
   "cell_type": "code",
   "execution_count": 13,
   "id": "acc750a4-7329-4727-b219-8a4371e795e8",
   "metadata": {},
   "outputs": [
    {
     "name": "stdout",
     "output_type": "stream",
     "text": [
      "('X1', 'X2', 'X3', 'X4', 'Y', 'S')\n"
     ]
    }
   ],
   "source": [
    "nodes: tuple[str] = tuple(net.nodes)\n",
    "print(nodes)\n",
    "state: tuple[int]\n",
    "probs: dict[tuple[int], float] = {}\n",
    "for state in joint_vals:\n",
    "    state_dict: dict[str, int] = {node: state for node, state in zip(nodes, state)}\n",
    "    prob: float = net.get_state_probability(state_dict)\n",
    "    probs[state] = prob\n",
    "#pprint(probs)"
   ]
  },
  {
   "cell_type": "code",
   "execution_count": 14,
   "id": "293983c1-b9da-446e-86e2-107edfeb486c",
   "metadata": {},
   "outputs": [],
   "source": [
    "joint_table: np.ndarray = np.zeros(tuple(net.get_cardinality(node) for node in net.nodes))\n",
    "\n",
    "for (i1, i2, i3, i4, j, y), prob in probs.items():\n",
    "    joint_table[i1, i2, i3, i4, j, y] = prob"
   ]
  },
  {
   "cell_type": "code",
   "execution_count": 15,
   "id": "72432bee-c865-4018-b033-30080cb5a681",
   "metadata": {},
   "outputs": [],
   "source": [
    "with open(f\"mutations_joint_distribution_table_{bxi}-{by}-{bs}.pkl\", 'wb') as handle:\n",
    "    pickle.dump(joint_table, handle)"
   ]
  },
  {
   "cell_type": "markdown",
   "id": "ce3b4ed5-0f6c-486f-8173-54c30d80cd40",
   "metadata": {},
   "source": [
    "## Max control theoretical solution"
   ]
  },
  {
   "cell_type": "code",
   "execution_count": 16,
   "id": "f7c9083a-f783-4dbb-aeaa-96b60a105760",
   "metadata": {},
   "outputs": [],
   "source": [
    "NTs = (4,)\n",
    "NXs = (2, 2, 2, 2)  # X1 through X4 are binary\n",
    "\n",
    "SOL_Q: np.ndarray = np.zeros(NTs + NXs)"
   ]
  },
  {
   "cell_type": "code",
   "execution_count": 17,
   "id": "d632cfb4-5858-4520-b6ca-fcdc07c85de9",
   "metadata": {},
   "outputs": [],
   "source": [
    "for x4 in range(NXs[3]):\n",
    "    SOL_Q[0,:,:,:,x4] = np.array([\n",
    "        [[1, 1],\n",
    "        [0, 0]],\n",
    "        \n",
    "        [[0, 0],\n",
    "        [0, 0]]\n",
    "    ])\n",
    "    \n",
    "    SOL_Q[1,:,:,:,x4] = np.array([\n",
    "        [[0, 0],\n",
    "        [1, 1]],\n",
    "        \n",
    "        [[1, 1],\n",
    "        [0, 0]]\n",
    "    ])\n",
    "    \n",
    "    SOL_Q[2,:,:,:,x4] = np.array([\n",
    "        [[0, 0],\n",
    "        [0, 0]],\n",
    "        \n",
    "        [[0, 0],\n",
    "        [1, 0]]\n",
    "    ])\n",
    "    \n",
    "    SOL_Q[3,:,:,:,x4] = np.array([\n",
    "        [[0, 0],\n",
    "        [0, 0]],\n",
    "        \n",
    "        [[0, 0],\n",
    "        [0, 1]]\n",
    "    ])"
   ]
  },
  {
   "cell_type": "markdown",
   "id": "c1d426b5-abee-4061-aecd-5cc02d16ef5b",
   "metadata": {},
   "source": [
    "Confirm that all conditionals p(t|x1,...,x4) are normalized:"
   ]
  },
  {
   "cell_type": "code",
   "execution_count": 18,
   "id": "f1e4995c-556c-4c52-8d8b-c0bf3414fbd4",
   "metadata": {},
   "outputs": [],
   "source": [
    "ranges =  tuple(list(range(NXs[n])) for n in range(len(NXs)))\n",
    "#print(list(product(*ranges)))\n",
    "for x1, x2, x3, x4 in product(*ranges): \n",
    "    assert np.sum(SOL_Q[:,x1,x2,x3,x4]) == 1.0"
   ]
  },
  {
   "cell_type": "code",
   "execution_count": 19,
   "id": "9b3f8da5-5f65-4c8d-8ec0-fdbdeb452f32",
   "metadata": {},
   "outputs": [],
   "source": [
    "#print(SOL_Q.shape)\n",
    "with open(\"mutations_sol_q.pkl\", 'wb') as handle:\n",
    "    pickle.dump(SOL_Q, handle)"
   ]
  }
 ],
 "metadata": {
  "kernelspec": {
   "display_name": "Python 3 (ipykernel)",
   "language": "python",
   "name": "python3"
  },
  "language_info": {
   "codemirror_mode": {
    "name": "ipython",
    "version": 3
   },
   "file_extension": ".py",
   "mimetype": "text/x-python",
   "name": "python",
   "nbconvert_exporter": "python",
   "pygments_lexer": "ipython3",
   "version": "3.10.12"
  }
 },
 "nbformat": 4,
 "nbformat_minor": 5
}
