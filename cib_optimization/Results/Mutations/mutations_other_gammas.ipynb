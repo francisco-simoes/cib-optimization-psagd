{
 "cells": [
  {
   "cell_type": "code",
   "execution_count": 11,
   "id": "413f87c3-74d7-457a-95b4-a212b6e9fb9e",
   "metadata": {},
   "outputs": [],
   "source": [
    "import mlflow\n",
    "import pandas as pd\n",
    "import numpy as np\n",
    "import torch\n",
    "import matplotlib.pyplot as plt\n",
    "import plotly.express as px\n",
    "import plotly.io as pio\n",
    "import plotly.graph_objects as go\n",
    "from pgd_optim_pytorch._utils import filter_df\n",
    "%matplotlib inline"
   ]
  },
  {
   "cell_type": "code",
   "execution_count": 12,
   "id": "15028198-e9d7-4de2-abda-a360652414d6",
   "metadata": {},
   "outputs": [],
   "source": [
    "# Set the tracking URI to the directory containing the mlruns folder\n",
    "mlflow.set_tracking_uri(\"../../../mlruns\")"
   ]
  },
  {
   "cell_type": "markdown",
   "id": "75af9253-ad2a-4884-a135-6db2076b8629",
   "metadata": {},
   "source": [
    "# Mutations - other gammas"
   ]
  },
  {
   "cell_type": "markdown",
   "id": "4ef2e51e-3b08-400e-b0e0-e602f589486c",
   "metadata": {},
   "source": [
    "We will use pSAGD to learn the minima of the CIB for various values of $\\gamma$."
   ]
  },
  {
   "cell_type": "markdown",
   "id": "cceb9e8a-6632-4bd3-8122-7a8f07a9eb45",
   "metadata": {},
   "source": [
    "## Load and pre-process the data"
   ]
  },
  {
   "cell_type": "code",
   "execution_count": 13,
   "id": "c75f23a7-aa2e-4f22-8bbf-a72c39fe1cc3",
   "metadata": {},
   "outputs": [
    {
     "name": "stdout",
     "output_type": "stream",
     "text": [
      "278804475068106160\n"
     ]
    }
   ],
   "source": [
    "# Retrieve all runs from the experiment of interest\n",
    "experiment = mlflow.get_experiment_by_name(\"Mutations - other gammas\")\n",
    "experiment_id = experiment.experiment_id\n",
    "print(experiment_id)"
   ]
  },
  {
   "cell_type": "code",
   "execution_count": 14,
   "id": "a149995d-4c31-436b-b4b6-fbba650988b8",
   "metadata": {},
   "outputs": [
    {
     "name": "stdout",
     "output_type": "stream",
     "text": [
      "72\n",
      "Index(['run_id', 'experiment_id', 'status', 'artifact_uri', 'start_time',\n",
      "       'end_time', 'metrics.penalty', 'metrics.HcYdoT', 'metrics.CIB loss',\n",
      "       'metrics.HY', 'metrics.VI of T and T_', 'metrics.HT',\n",
      "       'metrics.Expected optimal HT', 'metrics.Expected optimal HTcondX',\n",
      "       'metrics.HTcondX', 'metrics.Final CIB loss', 'metrics.diff_q',\n",
      "       'metrics.Expected optimal HcYdoT', 'metrics.converged',\n",
      "       'metrics.Expected optimal CIB loss', 'metrics.diff_loss',\n",
      "       'params.gamma', 'params.by', 'params.lr', 'params.temperature',\n",
      "       'params.max iter', 'params.cooling rate', 'params.end_lr_factor',\n",
      "       'params.Expected optimal q', 'params.beta', 'params.Learned q',\n",
      "       'params.bs', 'params.eps', 'params.bxi', 'tags.mlflow.user',\n",
      "       'tags.mlflow.runName', 'tags.mlflow.source.name',\n",
      "       'tags.mlflow.source.git.commit', 'tags.optimizer',\n",
      "       'tags.mlflow.source.type', 'tags.loss'],\n",
      "      dtype='object')\n"
     ]
    }
   ],
   "source": [
    "try:\n",
    "    runs_df = pd.read_csv('mutations_runs_other_gammas.csv')\n",
    "except FileNotFoundError:\n",
    "    # Extract df from mlflow directly\n",
    "    runs_df = mlflow.search_runs(experiment_ids=experiment_id, max_results=100000)\n",
    "    # Export the DataFrame to a CSV file\n",
    "    runs_df.to_csv('mutations_runs_other_gammas.csv', index=False)\n",
    "\n",
    "print(len(runs_df))\n",
    "print(runs_df.columns)"
   ]
  },
  {
   "cell_type": "code",
   "execution_count": 15,
   "id": "74989fcc-369a-4362-a0e2-683caf322130",
   "metadata": {},
   "outputs": [],
   "source": [
    "# Add duration metric\n",
    "runs_df['metrics.duration']=(pd.to_datetime(runs_df['end_time'], format='ISO8601') - pd.to_datetime(runs_df['start_time'], format='ISO8601')).dt.total_seconds()"
   ]
  },
  {
   "cell_type": "code",
   "execution_count": 16,
   "id": "fef87e69-1e34-4716-82eb-e184cfc0ab04",
   "metadata": {},
   "outputs": [],
   "source": [
    "# Only need some columns\n",
    "runs = runs_df[[\n",
    "      'metrics.duration',\n",
    "      'params.bxi',\n",
    "      'params.by',\n",
    "      'params.bs',\n",
    "      'params.gamma',\n",
    "      'params.beta',\n",
    "      'params.lr',\n",
    "      'metrics.VI of T and T_',\n",
    "      'metrics.Final CIB loss',\n",
    "      'metrics.HT',\n",
    "      'metrics.HTcondX',\n",
    "      'metrics.HY',\n",
    "      'metrics.HcYdoT',\n",
    "      'metrics.converged',\n",
    "      'params.Learned q',\n",
    "      'tags.optimizer',\n",
    "      'tags.loss'\n",
    "]]"
   ]
  },
  {
   "cell_type": "code",
   "execution_count": 17,
   "id": "738acb28-aa6e-4e1f-9e4f-7a51d1b16155",
   "metadata": {},
   "outputs": [
    {
     "data": {
      "text/html": [
       "<div>\n",
       "<style scoped>\n",
       "    .dataframe tbody tr th:only-of-type {\n",
       "        vertical-align: middle;\n",
       "    }\n",
       "\n",
       "    .dataframe tbody tr th {\n",
       "        vertical-align: top;\n",
       "    }\n",
       "\n",
       "    .dataframe thead th {\n",
       "        text-align: right;\n",
       "    }\n",
       "</style>\n",
       "<table border=\"1\" class=\"dataframe\">\n",
       "  <thead>\n",
       "    <tr style=\"text-align: right;\">\n",
       "      <th></th>\n",
       "      <th>duration</th>\n",
       "      <th>bxi</th>\n",
       "      <th>by</th>\n",
       "      <th>bs</th>\n",
       "      <th>gamma</th>\n",
       "      <th>beta</th>\n",
       "      <th>lr</th>\n",
       "      <th>VI of T and T_</th>\n",
       "      <th>Final CIB loss</th>\n",
       "      <th>HT</th>\n",
       "      <th>HTcondX</th>\n",
       "      <th>HY</th>\n",
       "      <th>HcYdoT</th>\n",
       "      <th>converged</th>\n",
       "      <th>Learned q</th>\n",
       "      <th>optimizer</th>\n",
       "      <th>loss</th>\n",
       "      <th>MI_XT</th>\n",
       "      <th>IcYdoT</th>\n",
       "    </tr>\n",
       "  </thead>\n",
       "  <tbody>\n",
       "    <tr>\n",
       "      <th>0</th>\n",
       "      <td>21.069</td>\n",
       "      <td>0.3</td>\n",
       "      <td>0.1</td>\n",
       "      <td>0.5</td>\n",
       "      <td>1.0</td>\n",
       "      <td>inf</td>\n",
       "      <td>10000.0</td>\n",
       "      <td>3.030305e-07</td>\n",
       "      <td>-0.780195</td>\n",
       "      <td>1.432582</td>\n",
       "      <td>-0.000000e+00</td>\n",
       "      <td>2.014693</td>\n",
       "      <td>1.234498</td>\n",
       "      <td>1.0</td>\n",
       "      <td>tensor([[[[[1., 1.],\\n           [1., 1.]],\\n\\...</td>\n",
       "      <td>pSAGD</td>\n",
       "      <td>wCIB+penalty</td>\n",
       "      <td>1.432582</td>\n",
       "      <td>0.780195</td>\n",
       "    </tr>\n",
       "    <tr>\n",
       "      <th>1</th>\n",
       "      <td>27.196</td>\n",
       "      <td>0.3</td>\n",
       "      <td>0.1</td>\n",
       "      <td>0.5</td>\n",
       "      <td>1.0</td>\n",
       "      <td>inf</td>\n",
       "      <td>10000.0</td>\n",
       "      <td>-1.738066e-07</td>\n",
       "      <td>-0.780195</td>\n",
       "      <td>1.432582</td>\n",
       "      <td>-0.000000e+00</td>\n",
       "      <td>2.014693</td>\n",
       "      <td>1.234498</td>\n",
       "      <td>1.0</td>\n",
       "      <td>tensor([[[[[0., 0.],\\n           [0., 0.]],\\n\\...</td>\n",
       "      <td>pSAGD</td>\n",
       "      <td>wCIB+penalty</td>\n",
       "      <td>1.432582</td>\n",
       "      <td>0.780195</td>\n",
       "    </tr>\n",
       "    <tr>\n",
       "      <th>2</th>\n",
       "      <td>13.991</td>\n",
       "      <td>0.3</td>\n",
       "      <td>0.1</td>\n",
       "      <td>0.5</td>\n",
       "      <td>1.0</td>\n",
       "      <td>inf</td>\n",
       "      <td>10000.0</td>\n",
       "      <td>-1.738066e-07</td>\n",
       "      <td>-0.780195</td>\n",
       "      <td>1.432582</td>\n",
       "      <td>-0.000000e+00</td>\n",
       "      <td>2.014693</td>\n",
       "      <td>1.234498</td>\n",
       "      <td>1.0</td>\n",
       "      <td>tensor([[[[[0., 0.],\\n           [0., 0.]],\\n\\...</td>\n",
       "      <td>pSAGD</td>\n",
       "      <td>wCIB+penalty</td>\n",
       "      <td>1.432582</td>\n",
       "      <td>0.780195</td>\n",
       "    </tr>\n",
       "    <tr>\n",
       "      <th>3</th>\n",
       "      <td>29.628</td>\n",
       "      <td>0.3</td>\n",
       "      <td>0.1</td>\n",
       "      <td>0.5</td>\n",
       "      <td>1.0</td>\n",
       "      <td>inf</td>\n",
       "      <td>100.0</td>\n",
       "      <td>5.095053e-01</td>\n",
       "      <td>-0.678923</td>\n",
       "      <td>1.762097</td>\n",
       "      <td>1.582874e-01</td>\n",
       "      <td>2.014693</td>\n",
       "      <td>1.335770</td>\n",
       "      <td>1.0</td>\n",
       "      <td>tensor([[[[[1.0000, 1.0000],\\n           [1.00...</td>\n",
       "      <td>pSAGD</td>\n",
       "      <td>wCIB+penalty</td>\n",
       "      <td>1.603809</td>\n",
       "      <td>0.678923</td>\n",
       "    </tr>\n",
       "    <tr>\n",
       "      <th>4</th>\n",
       "      <td>29.361</td>\n",
       "      <td>0.3</td>\n",
       "      <td>0.1</td>\n",
       "      <td>0.5</td>\n",
       "      <td>1.0</td>\n",
       "      <td>inf</td>\n",
       "      <td>100.0</td>\n",
       "      <td>3.030305e-07</td>\n",
       "      <td>-0.780195</td>\n",
       "      <td>1.432582</td>\n",
       "      <td>1.625236e-09</td>\n",
       "      <td>2.014693</td>\n",
       "      <td>1.234498</td>\n",
       "      <td>1.0</td>\n",
       "      <td>tensor([[[[[0., 0.],\\n           [0., 0.]],\\n\\...</td>\n",
       "      <td>pSAGD</td>\n",
       "      <td>wCIB+penalty</td>\n",
       "      <td>1.432582</td>\n",
       "      <td>0.780195</td>\n",
       "    </tr>\n",
       "  </tbody>\n",
       "</table>\n",
       "</div>"
      ],
      "text/plain": [
       "   duration  bxi   by   bs  gamma  beta       lr  VI of T and T_  \\\n",
       "0    21.069  0.3  0.1  0.5    1.0   inf  10000.0    3.030305e-07   \n",
       "1    27.196  0.3  0.1  0.5    1.0   inf  10000.0   -1.738066e-07   \n",
       "2    13.991  0.3  0.1  0.5    1.0   inf  10000.0   -1.738066e-07   \n",
       "3    29.628  0.3  0.1  0.5    1.0   inf    100.0    5.095053e-01   \n",
       "4    29.361  0.3  0.1  0.5    1.0   inf    100.0    3.030305e-07   \n",
       "\n",
       "   Final CIB loss        HT       HTcondX        HY    HcYdoT  converged  \\\n",
       "0       -0.780195  1.432582 -0.000000e+00  2.014693  1.234498        1.0   \n",
       "1       -0.780195  1.432582 -0.000000e+00  2.014693  1.234498        1.0   \n",
       "2       -0.780195  1.432582 -0.000000e+00  2.014693  1.234498        1.0   \n",
       "3       -0.678923  1.762097  1.582874e-01  2.014693  1.335770        1.0   \n",
       "4       -0.780195  1.432582  1.625236e-09  2.014693  1.234498        1.0   \n",
       "\n",
       "                                           Learned q optimizer          loss  \\\n",
       "0  tensor([[[[[1., 1.],\\n           [1., 1.]],\\n\\...     pSAGD  wCIB+penalty   \n",
       "1  tensor([[[[[0., 0.],\\n           [0., 0.]],\\n\\...     pSAGD  wCIB+penalty   \n",
       "2  tensor([[[[[0., 0.],\\n           [0., 0.]],\\n\\...     pSAGD  wCIB+penalty   \n",
       "3  tensor([[[[[1.0000, 1.0000],\\n           [1.00...     pSAGD  wCIB+penalty   \n",
       "4  tensor([[[[[0., 0.],\\n           [0., 0.]],\\n\\...     pSAGD  wCIB+penalty   \n",
       "\n",
       "      MI_XT    IcYdoT  \n",
       "0  1.432582  0.780195  \n",
       "1  1.432582  0.780195  \n",
       "2  1.432582  0.780195  \n",
       "3  1.603809  0.678923  \n",
       "4  1.432582  0.780195  "
      ]
     },
     "execution_count": 17,
     "metadata": {},
     "output_type": "execute_result"
    }
   ],
   "source": [
    "# List of columns that should be float\n",
    "float_columns = ['params.bxi', 'params.by', 'params.bs', 'params.gamma', 'params.beta', 'params.lr'] \n",
    "runs.loc[:, float_columns] = runs[float_columns].apply(pd.to_numeric, errors='raise')\n",
    "\n",
    "# Remove prefixes\n",
    "runs.columns = runs.columns.str.split('.').str[1]\n",
    "\n",
    "# Add MI, Ic columns\n",
    "runs.loc[:, ['MI_XT']] = runs['HT'] - runs['HTcondX']\n",
    "runs.loc[:, ['IcYdoT']] = runs['HY'] - runs['HcYdoT']\n",
    "runs.head()"
   ]
  },
  {
   "cell_type": "markdown",
   "id": "482dcff5-a91f-4ea2-81e2-2b6e38dea8c9",
   "metadata": {},
   "source": [
    "Create dataframe with a row containing the best run of each ensemble, i.e., the best run for each $\\gamma$."
   ]
  },
  {
   "cell_type": "code",
   "execution_count": 18,
   "id": "93a76770-c118-4664-bbdd-fe077c5816ca",
   "metadata": {
    "scrolled": true
   },
   "outputs": [
    {
     "data": {
      "text/html": [
       "<div>\n",
       "<style scoped>\n",
       "    .dataframe tbody tr th:only-of-type {\n",
       "        vertical-align: middle;\n",
       "    }\n",
       "\n",
       "    .dataframe tbody tr th {\n",
       "        vertical-align: top;\n",
       "    }\n",
       "\n",
       "    .dataframe thead th {\n",
       "        text-align: right;\n",
       "    }\n",
       "</style>\n",
       "<table border=\"1\" class=\"dataframe\">\n",
       "  <thead>\n",
       "    <tr style=\"text-align: right;\">\n",
       "      <th></th>\n",
       "      <th>duration</th>\n",
       "      <th>bxi</th>\n",
       "      <th>by</th>\n",
       "      <th>bs</th>\n",
       "      <th>gamma</th>\n",
       "      <th>beta</th>\n",
       "      <th>lr</th>\n",
       "      <th>VI of T and T_</th>\n",
       "      <th>Final CIB loss</th>\n",
       "      <th>HT</th>\n",
       "      <th>HTcondX</th>\n",
       "      <th>HY</th>\n",
       "      <th>HcYdoT</th>\n",
       "      <th>converged</th>\n",
       "      <th>Learned q</th>\n",
       "      <th>optimizer</th>\n",
       "      <th>loss</th>\n",
       "      <th>MI_XT</th>\n",
       "      <th>IcYdoT</th>\n",
       "    </tr>\n",
       "  </thead>\n",
       "  <tbody>\n",
       "    <tr>\n",
       "      <th>0</th>\n",
       "      <td>21.069</td>\n",
       "      <td>0.3</td>\n",
       "      <td>0.1</td>\n",
       "      <td>0.5</td>\n",
       "      <td>1.0</td>\n",
       "      <td>inf</td>\n",
       "      <td>10000.0</td>\n",
       "      <td>3.030305e-07</td>\n",
       "      <td>-7.801951e-01</td>\n",
       "      <td>1.432582</td>\n",
       "      <td>-0.000000</td>\n",
       "      <td>2.014693</td>\n",
       "      <td>1.234498</td>\n",
       "      <td>1.0</td>\n",
       "      <td>tensor([[[[[1., 1.],\\n           [1., 1.]],\\n\\...</td>\n",
       "      <td>pSAGD</td>\n",
       "      <td>wCIB+penalty</td>\n",
       "      <td>1.432582e+00</td>\n",
       "      <td>0.780195</td>\n",
       "    </tr>\n",
       "    <tr>\n",
       "      <th>8</th>\n",
       "      <td>92.130</td>\n",
       "      <td>0.3</td>\n",
       "      <td>0.1</td>\n",
       "      <td>0.5</td>\n",
       "      <td>0.8</td>\n",
       "      <td>4.000000</td>\n",
       "      <td>1.0</td>\n",
       "      <td>1.194096e+00</td>\n",
       "      <td>-2.913416e-01</td>\n",
       "      <td>1.375575</td>\n",
       "      <td>0.558038</td>\n",
       "      <td>2.014693</td>\n",
       "      <td>1.446132</td>\n",
       "      <td>0.0</td>\n",
       "      <td>tensor([[[[[0.0100, 0.0200],\\n           [0.02...</td>\n",
       "      <td>pSAGD</td>\n",
       "      <td>wCIB+penalty</td>\n",
       "      <td>8.175371e-01</td>\n",
       "      <td>0.568561</td>\n",
       "    </tr>\n",
       "    <tr>\n",
       "      <th>9</th>\n",
       "      <td>92.309</td>\n",
       "      <td>0.3</td>\n",
       "      <td>0.1</td>\n",
       "      <td>0.5</td>\n",
       "      <td>0.6</td>\n",
       "      <td>1.500000</td>\n",
       "      <td>1.0</td>\n",
       "      <td>2.509613e+00</td>\n",
       "      <td>-4.544535e-02</td>\n",
       "      <td>1.813542</td>\n",
       "      <td>1.443461</td>\n",
       "      <td>2.014693</td>\n",
       "      <td>1.692230</td>\n",
       "      <td>0.0</td>\n",
       "      <td>tensor([[[[[0.1500, 0.1500],\\n           [0.15...</td>\n",
       "      <td>pSAGD</td>\n",
       "      <td>wCIB+penalty</td>\n",
       "      <td>3.700812e-01</td>\n",
       "      <td>0.322463</td>\n",
       "    </tr>\n",
       "    <tr>\n",
       "      <th>10</th>\n",
       "      <td>97.470</td>\n",
       "      <td>0.3</td>\n",
       "      <td>0.1</td>\n",
       "      <td>0.5</td>\n",
       "      <td>0.4</td>\n",
       "      <td>0.666667</td>\n",
       "      <td>1.0</td>\n",
       "      <td>2.905271e+00</td>\n",
       "      <td>1.087763e-01</td>\n",
       "      <td>1.912260</td>\n",
       "      <td>1.685063</td>\n",
       "      <td>2.014693</td>\n",
       "      <td>1.945838</td>\n",
       "      <td>0.0</td>\n",
       "      <td>tensor([[[[[0.0800, 0.0700],\\n           [0.07...</td>\n",
       "      <td>pSAGD</td>\n",
       "      <td>wCIB+penalty</td>\n",
       "      <td>2.271972e-01</td>\n",
       "      <td>0.068855</td>\n",
       "    </tr>\n",
       "    <tr>\n",
       "      <th>11</th>\n",
       "      <td>70.811</td>\n",
       "      <td>0.3</td>\n",
       "      <td>0.1</td>\n",
       "      <td>0.5</td>\n",
       "      <td>0.2</td>\n",
       "      <td>0.250000</td>\n",
       "      <td>1.0</td>\n",
       "      <td>3.412807e+00</td>\n",
       "      <td>6.942458e-02</td>\n",
       "      <td>1.980015</td>\n",
       "      <td>1.980015</td>\n",
       "      <td>2.014693</td>\n",
       "      <td>2.361816</td>\n",
       "      <td>1.0</td>\n",
       "      <td>tensor([[[[[0.3100, 0.3100],\\n           [0.31...</td>\n",
       "      <td>pSAGD</td>\n",
       "      <td>wCIB+penalty</td>\n",
       "      <td>0.000000e+00</td>\n",
       "      <td>-0.347123</td>\n",
       "    </tr>\n",
       "    <tr>\n",
       "      <th>13</th>\n",
       "      <td>64.362</td>\n",
       "      <td>0.3</td>\n",
       "      <td>0.1</td>\n",
       "      <td>0.5</td>\n",
       "      <td>0.0</td>\n",
       "      <td>0.000000</td>\n",
       "      <td>1.0</td>\n",
       "      <td>3.405591e+00</td>\n",
       "      <td>-2.384186e-07</td>\n",
       "      <td>1.972860</td>\n",
       "      <td>1.972860</td>\n",
       "      <td>2.014693</td>\n",
       "      <td>2.361816</td>\n",
       "      <td>1.0</td>\n",
       "      <td>tensor([[[[[0.2700, 0.2700],\\n           [0.27...</td>\n",
       "      <td>pSAGD</td>\n",
       "      <td>wCIB+penalty</td>\n",
       "      <td>-2.384186e-07</td>\n",
       "      <td>-0.347123</td>\n",
       "    </tr>\n",
       "  </tbody>\n",
       "</table>\n",
       "</div>"
      ],
      "text/plain": [
       "    duration  bxi   by   bs  gamma      beta       lr  VI of T and T_  \\\n",
       "0     21.069  0.3  0.1  0.5    1.0       inf  10000.0    3.030305e-07   \n",
       "8     92.130  0.3  0.1  0.5    0.8  4.000000      1.0    1.194096e+00   \n",
       "9     92.309  0.3  0.1  0.5    0.6  1.500000      1.0    2.509613e+00   \n",
       "10    97.470  0.3  0.1  0.5    0.4  0.666667      1.0    2.905271e+00   \n",
       "11    70.811  0.3  0.1  0.5    0.2  0.250000      1.0    3.412807e+00   \n",
       "13    64.362  0.3  0.1  0.5    0.0  0.000000      1.0    3.405591e+00   \n",
       "\n",
       "    Final CIB loss        HT   HTcondX        HY    HcYdoT  converged  \\\n",
       "0    -7.801951e-01  1.432582 -0.000000  2.014693  1.234498        1.0   \n",
       "8    -2.913416e-01  1.375575  0.558038  2.014693  1.446132        0.0   \n",
       "9    -4.544535e-02  1.813542  1.443461  2.014693  1.692230        0.0   \n",
       "10    1.087763e-01  1.912260  1.685063  2.014693  1.945838        0.0   \n",
       "11    6.942458e-02  1.980015  1.980015  2.014693  2.361816        1.0   \n",
       "13   -2.384186e-07  1.972860  1.972860  2.014693  2.361816        1.0   \n",
       "\n",
       "                                            Learned q optimizer          loss  \\\n",
       "0   tensor([[[[[1., 1.],\\n           [1., 1.]],\\n\\...     pSAGD  wCIB+penalty   \n",
       "8   tensor([[[[[0.0100, 0.0200],\\n           [0.02...     pSAGD  wCIB+penalty   \n",
       "9   tensor([[[[[0.1500, 0.1500],\\n           [0.15...     pSAGD  wCIB+penalty   \n",
       "10  tensor([[[[[0.0800, 0.0700],\\n           [0.07...     pSAGD  wCIB+penalty   \n",
       "11  tensor([[[[[0.3100, 0.3100],\\n           [0.31...     pSAGD  wCIB+penalty   \n",
       "13  tensor([[[[[0.2700, 0.2700],\\n           [0.27...     pSAGD  wCIB+penalty   \n",
       "\n",
       "           MI_XT    IcYdoT  \n",
       "0   1.432582e+00  0.780195  \n",
       "8   8.175371e-01  0.568561  \n",
       "9   3.700812e-01  0.322463  \n",
       "10  2.271972e-01  0.068855  \n",
       "11  0.000000e+00 -0.347123  \n",
       "13 -2.384186e-07 -0.347123  "
      ]
     },
     "execution_count": 18,
     "metadata": {},
     "output_type": "execute_result"
    }
   ],
   "source": [
    "min_losses = runs.groupby(['gamma'], as_index=False)['Final CIB loss'].min()\n",
    "\n",
    "# Merge the original DataFrame with the minimum losses DataFrame\n",
    "df_merged = pd.merge(runs, min_losses, on=['gamma', 'Final CIB loss'])\n",
    "\n",
    "# Drop duplicates to keep only one row per gamma value\n",
    "best_runs = df_merged.drop_duplicates(subset=['gamma'])\n",
    "best_runs"
   ]
  },
  {
   "cell_type": "markdown",
   "id": "00ccb80c-6eb6-4d97-8be5-25e13fbafabb",
   "metadata": {},
   "source": [
    "## Parallel plots "
   ]
  },
  {
   "cell_type": "code",
   "execution_count": 19,
   "id": "06f16da3-e2c7-4bdc-b33b-480404d6e1ca",
   "metadata": {},
   "outputs": [],
   "source": [
    "columns_to_plot = ['gamma', 'IcYdoT', 'MI_XT', 'VI of T and T_']"
   ]
  },
  {
   "cell_type": "code",
   "execution_count": 20,
   "id": "9b832412-9f06-454f-817e-fb2497968c2a",
   "metadata": {},
   "outputs": [
    {
     "data": {
      "application/vnd.plotly.v1+json": {
       "config": {
        "plotlyServerURL": "https://plot.ly"
       },
       "data": [
        {
         "dimensions": [
          {
           "label": "gamma",
           "values": [
            1,
            0.8,
            0.6,
            0.4,
            0.2,
            0
           ]
          },
          {
           "label": "IcYdoT",
           "values": [
            0.7801951169967651,
            0.568561315536499,
            0.3224630355834961,
            0.06885504722595193,
            -0.3471229076385498,
            -0.3471226692199707
           ]
          },
          {
           "label": "MI_XT",
           "values": [
            1.432581901550293,
            0.8175371289253235,
            0.37008118629455566,
            0.22719717025756836,
            0,
            -2.384185788795179e-07
           ]
          },
          {
           "label": "VI of T and T_",
           "values": [
            3.030305153473023e-07,
            1.1940955744024553,
            2.5096127368771475,
            2.9052713676097595,
            3.412806855611795,
            3.405590540759069
           ]
          }
         ],
         "line": {
          "color": [
           1,
           0.8,
           0.6,
           0.4,
           0.2,
           0
          ],
          "colorscale": [
           [
            0,
            "rgb(0, 147, 146)"
           ],
           [
            0.16666666666666666,
            "rgb(114, 170, 161)"
           ],
           [
            0.3333333333333333,
            "rgb(177, 199, 179)"
           ],
           [
            0.5,
            "rgb(241, 234, 200)"
           ],
           [
            0.6666666666666666,
            "rgb(229, 185, 173)"
           ],
           [
            0.8333333333333334,
            "rgb(217, 137, 148)"
           ],
           [
            1,
            "rgb(208, 88, 126)"
           ]
          ],
          "showscale": false
         },
         "type": "parcoords",
         "unselected": {
          "line": {
           "color": "gray",
           "opacity": 0.08
          }
         }
        }
       ],
       "layout": {
        "autosize": true,
        "template": {
         "data": {
          "bar": [
           {
            "error_x": {
             "color": "#2a3f5f"
            },
            "error_y": {
             "color": "#2a3f5f"
            },
            "marker": {
             "line": {
              "color": "#E5ECF6",
              "width": 0.5
             },
             "pattern": {
              "fillmode": "overlay",
              "size": 10,
              "solidity": 0.2
             }
            },
            "type": "bar"
           }
          ],
          "barpolar": [
           {
            "marker": {
             "line": {
              "color": "#E5ECF6",
              "width": 0.5
             },
             "pattern": {
              "fillmode": "overlay",
              "size": 10,
              "solidity": 0.2
             }
            },
            "type": "barpolar"
           }
          ],
          "carpet": [
           {
            "aaxis": {
             "endlinecolor": "#2a3f5f",
             "gridcolor": "white",
             "linecolor": "white",
             "minorgridcolor": "white",
             "startlinecolor": "#2a3f5f"
            },
            "baxis": {
             "endlinecolor": "#2a3f5f",
             "gridcolor": "white",
             "linecolor": "white",
             "minorgridcolor": "white",
             "startlinecolor": "#2a3f5f"
            },
            "type": "carpet"
           }
          ],
          "choropleth": [
           {
            "colorbar": {
             "outlinewidth": 0,
             "ticks": ""
            },
            "type": "choropleth"
           }
          ],
          "contour": [
           {
            "colorbar": {
             "outlinewidth": 0,
             "ticks": ""
            },
            "colorscale": [
             [
              0,
              "#0d0887"
             ],
             [
              0.1111111111111111,
              "#46039f"
             ],
             [
              0.2222222222222222,
              "#7201a8"
             ],
             [
              0.3333333333333333,
              "#9c179e"
             ],
             [
              0.4444444444444444,
              "#bd3786"
             ],
             [
              0.5555555555555556,
              "#d8576b"
             ],
             [
              0.6666666666666666,
              "#ed7953"
             ],
             [
              0.7777777777777778,
              "#fb9f3a"
             ],
             [
              0.8888888888888888,
              "#fdca26"
             ],
             [
              1,
              "#f0f921"
             ]
            ],
            "type": "contour"
           }
          ],
          "contourcarpet": [
           {
            "colorbar": {
             "outlinewidth": 0,
             "ticks": ""
            },
            "type": "contourcarpet"
           }
          ],
          "heatmap": [
           {
            "colorbar": {
             "outlinewidth": 0,
             "ticks": ""
            },
            "colorscale": [
             [
              0,
              "#0d0887"
             ],
             [
              0.1111111111111111,
              "#46039f"
             ],
             [
              0.2222222222222222,
              "#7201a8"
             ],
             [
              0.3333333333333333,
              "#9c179e"
             ],
             [
              0.4444444444444444,
              "#bd3786"
             ],
             [
              0.5555555555555556,
              "#d8576b"
             ],
             [
              0.6666666666666666,
              "#ed7953"
             ],
             [
              0.7777777777777778,
              "#fb9f3a"
             ],
             [
              0.8888888888888888,
              "#fdca26"
             ],
             [
              1,
              "#f0f921"
             ]
            ],
            "type": "heatmap"
           }
          ],
          "heatmapgl": [
           {
            "colorbar": {
             "outlinewidth": 0,
             "ticks": ""
            },
            "colorscale": [
             [
              0,
              "#0d0887"
             ],
             [
              0.1111111111111111,
              "#46039f"
             ],
             [
              0.2222222222222222,
              "#7201a8"
             ],
             [
              0.3333333333333333,
              "#9c179e"
             ],
             [
              0.4444444444444444,
              "#bd3786"
             ],
             [
              0.5555555555555556,
              "#d8576b"
             ],
             [
              0.6666666666666666,
              "#ed7953"
             ],
             [
              0.7777777777777778,
              "#fb9f3a"
             ],
             [
              0.8888888888888888,
              "#fdca26"
             ],
             [
              1,
              "#f0f921"
             ]
            ],
            "type": "heatmapgl"
           }
          ],
          "histogram": [
           {
            "marker": {
             "pattern": {
              "fillmode": "overlay",
              "size": 10,
              "solidity": 0.2
             }
            },
            "type": "histogram"
           }
          ],
          "histogram2d": [
           {
            "colorbar": {
             "outlinewidth": 0,
             "ticks": ""
            },
            "colorscale": [
             [
              0,
              "#0d0887"
             ],
             [
              0.1111111111111111,
              "#46039f"
             ],
             [
              0.2222222222222222,
              "#7201a8"
             ],
             [
              0.3333333333333333,
              "#9c179e"
             ],
             [
              0.4444444444444444,
              "#bd3786"
             ],
             [
              0.5555555555555556,
              "#d8576b"
             ],
             [
              0.6666666666666666,
              "#ed7953"
             ],
             [
              0.7777777777777778,
              "#fb9f3a"
             ],
             [
              0.8888888888888888,
              "#fdca26"
             ],
             [
              1,
              "#f0f921"
             ]
            ],
            "type": "histogram2d"
           }
          ],
          "histogram2dcontour": [
           {
            "colorbar": {
             "outlinewidth": 0,
             "ticks": ""
            },
            "colorscale": [
             [
              0,
              "#0d0887"
             ],
             [
              0.1111111111111111,
              "#46039f"
             ],
             [
              0.2222222222222222,
              "#7201a8"
             ],
             [
              0.3333333333333333,
              "#9c179e"
             ],
             [
              0.4444444444444444,
              "#bd3786"
             ],
             [
              0.5555555555555556,
              "#d8576b"
             ],
             [
              0.6666666666666666,
              "#ed7953"
             ],
             [
              0.7777777777777778,
              "#fb9f3a"
             ],
             [
              0.8888888888888888,
              "#fdca26"
             ],
             [
              1,
              "#f0f921"
             ]
            ],
            "type": "histogram2dcontour"
           }
          ],
          "mesh3d": [
           {
            "colorbar": {
             "outlinewidth": 0,
             "ticks": ""
            },
            "type": "mesh3d"
           }
          ],
          "parcoords": [
           {
            "line": {
             "colorbar": {
              "outlinewidth": 0,
              "ticks": ""
             }
            },
            "type": "parcoords"
           }
          ],
          "pie": [
           {
            "automargin": true,
            "type": "pie"
           }
          ],
          "scatter": [
           {
            "fillpattern": {
             "fillmode": "overlay",
             "size": 10,
             "solidity": 0.2
            },
            "type": "scatter"
           }
          ],
          "scatter3d": [
           {
            "line": {
             "colorbar": {
              "outlinewidth": 0,
              "ticks": ""
             }
            },
            "marker": {
             "colorbar": {
              "outlinewidth": 0,
              "ticks": ""
             }
            },
            "type": "scatter3d"
           }
          ],
          "scattercarpet": [
           {
            "marker": {
             "colorbar": {
              "outlinewidth": 0,
              "ticks": ""
             }
            },
            "type": "scattercarpet"
           }
          ],
          "scattergeo": [
           {
            "marker": {
             "colorbar": {
              "outlinewidth": 0,
              "ticks": ""
             }
            },
            "type": "scattergeo"
           }
          ],
          "scattergl": [
           {
            "marker": {
             "colorbar": {
              "outlinewidth": 0,
              "ticks": ""
             }
            },
            "type": "scattergl"
           }
          ],
          "scattermapbox": [
           {
            "marker": {
             "colorbar": {
              "outlinewidth": 0,
              "ticks": ""
             }
            },
            "type": "scattermapbox"
           }
          ],
          "scatterpolar": [
           {
            "marker": {
             "colorbar": {
              "outlinewidth": 0,
              "ticks": ""
             }
            },
            "type": "scatterpolar"
           }
          ],
          "scatterpolargl": [
           {
            "marker": {
             "colorbar": {
              "outlinewidth": 0,
              "ticks": ""
             }
            },
            "type": "scatterpolargl"
           }
          ],
          "scatterternary": [
           {
            "marker": {
             "colorbar": {
              "outlinewidth": 0,
              "ticks": ""
             }
            },
            "type": "scatterternary"
           }
          ],
          "surface": [
           {
            "colorbar": {
             "outlinewidth": 0,
             "ticks": ""
            },
            "colorscale": [
             [
              0,
              "#0d0887"
             ],
             [
              0.1111111111111111,
              "#46039f"
             ],
             [
              0.2222222222222222,
              "#7201a8"
             ],
             [
              0.3333333333333333,
              "#9c179e"
             ],
             [
              0.4444444444444444,
              "#bd3786"
             ],
             [
              0.5555555555555556,
              "#d8576b"
             ],
             [
              0.6666666666666666,
              "#ed7953"
             ],
             [
              0.7777777777777778,
              "#fb9f3a"
             ],
             [
              0.8888888888888888,
              "#fdca26"
             ],
             [
              1,
              "#f0f921"
             ]
            ],
            "type": "surface"
           }
          ],
          "table": [
           {
            "cells": {
             "fill": {
              "color": "#EBF0F8"
             },
             "line": {
              "color": "white"
             }
            },
            "header": {
             "fill": {
              "color": "#C8D4E3"
             },
             "line": {
              "color": "white"
             }
            },
            "type": "table"
           }
          ]
         },
         "layout": {
          "annotationdefaults": {
           "arrowcolor": "#2a3f5f",
           "arrowhead": 0,
           "arrowwidth": 1
          },
          "autotypenumbers": "strict",
          "coloraxis": {
           "colorbar": {
            "outlinewidth": 0,
            "ticks": ""
           }
          },
          "colorscale": {
           "diverging": [
            [
             0,
             "#8e0152"
            ],
            [
             0.1,
             "#c51b7d"
            ],
            [
             0.2,
             "#de77ae"
            ],
            [
             0.3,
             "#f1b6da"
            ],
            [
             0.4,
             "#fde0ef"
            ],
            [
             0.5,
             "#f7f7f7"
            ],
            [
             0.6,
             "#e6f5d0"
            ],
            [
             0.7,
             "#b8e186"
            ],
            [
             0.8,
             "#7fbc41"
            ],
            [
             0.9,
             "#4d9221"
            ],
            [
             1,
             "#276419"
            ]
           ],
           "sequential": [
            [
             0,
             "#0d0887"
            ],
            [
             0.1111111111111111,
             "#46039f"
            ],
            [
             0.2222222222222222,
             "#7201a8"
            ],
            [
             0.3333333333333333,
             "#9c179e"
            ],
            [
             0.4444444444444444,
             "#bd3786"
            ],
            [
             0.5555555555555556,
             "#d8576b"
            ],
            [
             0.6666666666666666,
             "#ed7953"
            ],
            [
             0.7777777777777778,
             "#fb9f3a"
            ],
            [
             0.8888888888888888,
             "#fdca26"
            ],
            [
             1,
             "#f0f921"
            ]
           ],
           "sequentialminus": [
            [
             0,
             "#0d0887"
            ],
            [
             0.1111111111111111,
             "#46039f"
            ],
            [
             0.2222222222222222,
             "#7201a8"
            ],
            [
             0.3333333333333333,
             "#9c179e"
            ],
            [
             0.4444444444444444,
             "#bd3786"
            ],
            [
             0.5555555555555556,
             "#d8576b"
            ],
            [
             0.6666666666666666,
             "#ed7953"
            ],
            [
             0.7777777777777778,
             "#fb9f3a"
            ],
            [
             0.8888888888888888,
             "#fdca26"
            ],
            [
             1,
             "#f0f921"
            ]
           ]
          },
          "colorway": [
           "#636efa",
           "#EF553B",
           "#00cc96",
           "#ab63fa",
           "#FFA15A",
           "#19d3f3",
           "#FF6692",
           "#B6E880",
           "#FF97FF",
           "#FECB52"
          ],
          "font": {
           "color": "#2a3f5f"
          },
          "geo": {
           "bgcolor": "white",
           "lakecolor": "white",
           "landcolor": "#E5ECF6",
           "showlakes": true,
           "showland": true,
           "subunitcolor": "white"
          },
          "hoverlabel": {
           "align": "left"
          },
          "hovermode": "closest",
          "mapbox": {
           "style": "light"
          },
          "paper_bgcolor": "white",
          "plot_bgcolor": "#E5ECF6",
          "polar": {
           "angularaxis": {
            "gridcolor": "white",
            "linecolor": "white",
            "ticks": ""
           },
           "bgcolor": "#E5ECF6",
           "radialaxis": {
            "gridcolor": "white",
            "linecolor": "white",
            "ticks": ""
           }
          },
          "scene": {
           "xaxis": {
            "backgroundcolor": "#E5ECF6",
            "gridcolor": "white",
            "gridwidth": 2,
            "linecolor": "white",
            "showbackground": true,
            "ticks": "",
            "zerolinecolor": "white"
           },
           "yaxis": {
            "backgroundcolor": "#E5ECF6",
            "gridcolor": "white",
            "gridwidth": 2,
            "linecolor": "white",
            "showbackground": true,
            "ticks": "",
            "zerolinecolor": "white"
           },
           "zaxis": {
            "backgroundcolor": "#E5ECF6",
            "gridcolor": "white",
            "gridwidth": 2,
            "linecolor": "white",
            "showbackground": true,
            "ticks": "",
            "zerolinecolor": "white"
           }
          },
          "shapedefaults": {
           "line": {
            "color": "#2a3f5f"
           }
          },
          "ternary": {
           "aaxis": {
            "gridcolor": "white",
            "linecolor": "white",
            "ticks": ""
           },
           "baxis": {
            "gridcolor": "white",
            "linecolor": "white",
            "ticks": ""
           },
           "bgcolor": "#E5ECF6",
           "caxis": {
            "gridcolor": "white",
            "linecolor": "white",
            "ticks": ""
           }
          },
          "title": {
           "x": 0.05
          },
          "xaxis": {
           "automargin": true,
           "gridcolor": "white",
           "linecolor": "white",
           "ticks": "",
           "title": {
            "standoff": 15
           },
           "zerolinecolor": "white",
           "zerolinewidth": 2
          },
          "yaxis": {
           "automargin": true,
           "gridcolor": "white",
           "linecolor": "white",
           "ticks": "",
           "title": {
            "standoff": 15
           },
           "zerolinecolor": "white",
           "zerolinewidth": 2
          }
         }
        }
       }
      },
      "image/png": "[encoded data removed]",
      "text/html": [
       "<div>                            <div id=\"b11ee9e2-edbf-4d99-a895-41dd276bfc74\" class=\"plotly-graph-div\" style=\"height:525px; width:100%;\"></div>            <script type=\"text/javascript\">                require([\"plotly\"], function(Plotly) {                    window.PLOTLYENV=window.PLOTLYENV || {};                                    if (document.getElementById(\"b11ee9e2-edbf-4d99-a895-41dd276bfc74\")) {                    Plotly.newPlot(                        \"b11ee9e2-edbf-4d99-a895-41dd276bfc74\",                        [{\"dimensions\":[{\"label\":\"gamma\",\"values\":[1.0,0.8,0.6,0.4,0.2,0.0]},{\"label\":\"IcYdoT\",\"values\":[0.7801951169967651,0.568561315536499,0.3224630355834961,0.06885504722595193,-0.3471229076385498,-0.3471226692199707]},{\"label\":\"MI_XT\",\"values\":[1.432581901550293,0.8175371289253235,0.37008118629455566,0.22719717025756836,0.0,-2.384185788795179e-07]},{\"label\":\"VI of T and T_\",\"values\":[3.030305153473023e-07,1.1940955744024553,2.5096127368771475,2.9052713676097595,3.412806855611795,3.405590540759069]}],\"line\":{\"color\":[1.0,0.8,0.6,0.4,0.2,0.0],\"colorscale\":[[0.0,\"rgb(0, 147, 146)\"],[0.16666666666666666,\"rgb(114, 170, 161)\"],[0.3333333333333333,\"rgb(177, 199, 179)\"],[0.5,\"rgb(241, 234, 200)\"],[0.6666666666666666,\"rgb(229, 185, 173)\"],[0.8333333333333334,\"rgb(217, 137, 148)\"],[1.0,\"rgb(208, 88, 126)\"]],\"showscale\":false},\"unselected\":{\"line\":{\"color\":\"gray\",\"opacity\":0.08}},\"type\":\"parcoords\"}],                        {\"template\":{\"data\":{\"histogram2dcontour\":[{\"type\":\"histogram2dcontour\",\"colorbar\":{\"outlinewidth\":0,\"ticks\":\"\"},\"colorscale\":[[0.0,\"#0d0887\"],[0.1111111111111111,\"#46039f\"],[0.2222222222222222,\"#7201a8\"],[0.3333333333333333,\"#9c179e\"],[0.4444444444444444,\"#bd3786\"],[0.5555555555555556,\"#d8576b\"],[0.6666666666666666,\"#ed7953\"],[0.7777777777777778,\"#fb9f3a\"],[0.8888888888888888,\"#fdca26\"],[1.0,\"#f0f921\"]]}],\"choropleth\":[{\"type\":\"choropleth\",\"colorbar\":{\"outlinewidth\":0,\"ticks\":\"\"}}],\"histogram2d\":[{\"type\":\"histogram2d\",\"colorbar\":{\"outlinewidth\":0,\"ticks\":\"\"},\"colorscale\":[[0.0,\"#0d0887\"],[0.1111111111111111,\"#46039f\"],[0.2222222222222222,\"#7201a8\"],[0.3333333333333333,\"#9c179e\"],[0.4444444444444444,\"#bd3786\"],[0.5555555555555556,\"#d8576b\"],[0.6666666666666666,\"#ed7953\"],[0.7777777777777778,\"#fb9f3a\"],[0.8888888888888888,\"#fdca26\"],[1.0,\"#f0f921\"]]}],\"heatmap\":[{\"type\":\"heatmap\",\"colorbar\":{\"outlinewidth\":0,\"ticks\":\"\"},\"colorscale\":[[0.0,\"#0d0887\"],[0.1111111111111111,\"#46039f\"],[0.2222222222222222,\"#7201a8\"],[0.3333333333333333,\"#9c179e\"],[0.4444444444444444,\"#bd3786\"],[0.5555555555555556,\"#d8576b\"],[0.6666666666666666,\"#ed7953\"],[0.7777777777777778,\"#fb9f3a\"],[0.8888888888888888,\"#fdca26\"],[1.0,\"#f0f921\"]]}],\"heatmapgl\":[{\"type\":\"heatmapgl\",\"colorbar\":{\"outlinewidth\":0,\"ticks\":\"\"},\"colorscale\":[[0.0,\"#0d0887\"],[0.1111111111111111,\"#46039f\"],[0.2222222222222222,\"#7201a8\"],[0.3333333333333333,\"#9c179e\"],[0.4444444444444444,\"#bd3786\"],[0.5555555555555556,\"#d8576b\"],[0.6666666666666666,\"#ed7953\"],[0.7777777777777778,\"#fb9f3a\"],[0.8888888888888888,\"#fdca26\"],[1.0,\"#f0f921\"]]}],\"contourcarpet\":[{\"type\":\"contourcarpet\",\"colorbar\":{\"outlinewidth\":0,\"ticks\":\"\"}}],\"contour\":[{\"type\":\"contour\",\"colorbar\":{\"outlinewidth\":0,\"ticks\":\"\"},\"colorscale\":[[0.0,\"#0d0887\"],[0.1111111111111111,\"#46039f\"],[0.2222222222222222,\"#7201a8\"],[0.3333333333333333,\"#9c179e\"],[0.4444444444444444,\"#bd3786\"],[0.5555555555555556,\"#d8576b\"],[0.6666666666666666,\"#ed7953\"],[0.7777777777777778,\"#fb9f3a\"],[0.8888888888888888,\"#fdca26\"],[1.0,\"#f0f921\"]]}],\"surface\":[{\"type\":\"surface\",\"colorbar\":{\"outlinewidth\":0,\"ticks\":\"\"},\"colorscale\":[[0.0,\"#0d0887\"],[0.1111111111111111,\"#46039f\"],[0.2222222222222222,\"#7201a8\"],[0.3333333333333333,\"#9c179e\"],[0.4444444444444444,\"#bd3786\"],[0.5555555555555556,\"#d8576b\"],[0.6666666666666666,\"#ed7953\"],[0.7777777777777778,\"#fb9f3a\"],[0.8888888888888888,\"#fdca26\"],[1.0,\"#f0f921\"]]}],\"mesh3d\":[{\"type\":\"mesh3d\",\"colorbar\":{\"outlinewidth\":0,\"ticks\":\"\"}}],\"scatter\":[{\"fillpattern\":{\"fillmode\":\"overlay\",\"size\":10,\"solidity\":0.2},\"type\":\"scatter\"}],\"parcoords\":[{\"type\":\"parcoords\",\"line\":{\"colorbar\":{\"outlinewidth\":0,\"ticks\":\"\"}}}],\"scatterpolargl\":[{\"type\":\"scatterpolargl\",\"marker\":{\"colorbar\":{\"outlinewidth\":0,\"ticks\":\"\"}}}],\"bar\":[{\"error_x\":{\"color\":\"#2a3f5f\"},\"error_y\":{\"color\":\"#2a3f5f\"},\"marker\":{\"line\":{\"color\":\"#E5ECF6\",\"width\":0.5},\"pattern\":{\"fillmode\":\"overlay\",\"size\":10,\"solidity\":0.2}},\"type\":\"bar\"}],\"scattergeo\":[{\"type\":\"scattergeo\",\"marker\":{\"colorbar\":{\"outlinewidth\":0,\"ticks\":\"\"}}}],\"scatterpolar\":[{\"type\":\"scatterpolar\",\"marker\":{\"colorbar\":{\"outlinewidth\":0,\"ticks\":\"\"}}}],\"histogram\":[{\"marker\":{\"pattern\":{\"fillmode\":\"overlay\",\"size\":10,\"solidity\":0.2}},\"type\":\"histogram\"}],\"scattergl\":[{\"type\":\"scattergl\",\"marker\":{\"colorbar\":{\"outlinewidth\":0,\"ticks\":\"\"}}}],\"scatter3d\":[{\"type\":\"scatter3d\",\"line\":{\"colorbar\":{\"outlinewidth\":0,\"ticks\":\"\"}},\"marker\":{\"colorbar\":{\"outlinewidth\":0,\"ticks\":\"\"}}}],\"scattermapbox\":[{\"type\":\"scattermapbox\",\"marker\":{\"colorbar\":{\"outlinewidth\":0,\"ticks\":\"\"}}}],\"scatterternary\":[{\"type\":\"scatterternary\",\"marker\":{\"colorbar\":{\"outlinewidth\":0,\"ticks\":\"\"}}}],\"scattercarpet\":[{\"type\":\"scattercarpet\",\"marker\":{\"colorbar\":{\"outlinewidth\":0,\"ticks\":\"\"}}}],\"carpet\":[{\"aaxis\":{\"endlinecolor\":\"#2a3f5f\",\"gridcolor\":\"white\",\"linecolor\":\"white\",\"minorgridcolor\":\"white\",\"startlinecolor\":\"#2a3f5f\"},\"baxis\":{\"endlinecolor\":\"#2a3f5f\",\"gridcolor\":\"white\",\"linecolor\":\"white\",\"minorgridcolor\":\"white\",\"startlinecolor\":\"#2a3f5f\"},\"type\":\"carpet\"}],\"table\":[{\"cells\":{\"fill\":{\"color\":\"#EBF0F8\"},\"line\":{\"color\":\"white\"}},\"header\":{\"fill\":{\"color\":\"#C8D4E3\"},\"line\":{\"color\":\"white\"}},\"type\":\"table\"}],\"barpolar\":[{\"marker\":{\"line\":{\"color\":\"#E5ECF6\",\"width\":0.5},\"pattern\":{\"fillmode\":\"overlay\",\"size\":10,\"solidity\":0.2}},\"type\":\"barpolar\"}],\"pie\":[{\"automargin\":true,\"type\":\"pie\"}]},\"layout\":{\"autotypenumbers\":\"strict\",\"colorway\":[\"#636efa\",\"#EF553B\",\"#00cc96\",\"#ab63fa\",\"#FFA15A\",\"#19d3f3\",\"#FF6692\",\"#B6E880\",\"#FF97FF\",\"#FECB52\"],\"font\":{\"color\":\"#2a3f5f\"},\"hovermode\":\"closest\",\"hoverlabel\":{\"align\":\"left\"},\"paper_bgcolor\":\"white\",\"plot_bgcolor\":\"#E5ECF6\",\"polar\":{\"bgcolor\":\"#E5ECF6\",\"angularaxis\":{\"gridcolor\":\"white\",\"linecolor\":\"white\",\"ticks\":\"\"},\"radialaxis\":{\"gridcolor\":\"white\",\"linecolor\":\"white\",\"ticks\":\"\"}},\"ternary\":{\"bgcolor\":\"#E5ECF6\",\"aaxis\":{\"gridcolor\":\"white\",\"linecolor\":\"white\",\"ticks\":\"\"},\"baxis\":{\"gridcolor\":\"white\",\"linecolor\":\"white\",\"ticks\":\"\"},\"caxis\":{\"gridcolor\":\"white\",\"linecolor\":\"white\",\"ticks\":\"\"}},\"coloraxis\":{\"colorbar\":{\"outlinewidth\":0,\"ticks\":\"\"}},\"colorscale\":{\"sequential\":[[0.0,\"#0d0887\"],[0.1111111111111111,\"#46039f\"],[0.2222222222222222,\"#7201a8\"],[0.3333333333333333,\"#9c179e\"],[0.4444444444444444,\"#bd3786\"],[0.5555555555555556,\"#d8576b\"],[0.6666666666666666,\"#ed7953\"],[0.7777777777777778,\"#fb9f3a\"],[0.8888888888888888,\"#fdca26\"],[1.0,\"#f0f921\"]],\"sequentialminus\":[[0.0,\"#0d0887\"],[0.1111111111111111,\"#46039f\"],[0.2222222222222222,\"#7201a8\"],[0.3333333333333333,\"#9c179e\"],[0.4444444444444444,\"#bd3786\"],[0.5555555555555556,\"#d8576b\"],[0.6666666666666666,\"#ed7953\"],[0.7777777777777778,\"#fb9f3a\"],[0.8888888888888888,\"#fdca26\"],[1.0,\"#f0f921\"]],\"diverging\":[[0,\"#8e0152\"],[0.1,\"#c51b7d\"],[0.2,\"#de77ae\"],[0.3,\"#f1b6da\"],[0.4,\"#fde0ef\"],[0.5,\"#f7f7f7\"],[0.6,\"#e6f5d0\"],[0.7,\"#b8e186\"],[0.8,\"#7fbc41\"],[0.9,\"#4d9221\"],[1,\"#276419\"]]},\"xaxis\":{\"gridcolor\":\"white\",\"linecolor\":\"white\",\"ticks\":\"\",\"title\":{\"standoff\":15},\"zerolinecolor\":\"white\",\"automargin\":true,\"zerolinewidth\":2},\"yaxis\":{\"gridcolor\":\"white\",\"linecolor\":\"white\",\"ticks\":\"\",\"title\":{\"standoff\":15},\"zerolinecolor\":\"white\",\"automargin\":true,\"zerolinewidth\":2},\"scene\":{\"xaxis\":{\"backgroundcolor\":\"#E5ECF6\",\"gridcolor\":\"white\",\"linecolor\":\"white\",\"showbackground\":true,\"ticks\":\"\",\"zerolinecolor\":\"white\",\"gridwidth\":2},\"yaxis\":{\"backgroundcolor\":\"#E5ECF6\",\"gridcolor\":\"white\",\"linecolor\":\"white\",\"showbackground\":true,\"ticks\":\"\",\"zerolinecolor\":\"white\",\"gridwidth\":2},\"zaxis\":{\"backgroundcolor\":\"#E5ECF6\",\"gridcolor\":\"white\",\"linecolor\":\"white\",\"showbackground\":true,\"ticks\":\"\",\"zerolinecolor\":\"white\",\"gridwidth\":2}},\"shapedefaults\":{\"line\":{\"color\":\"#2a3f5f\"}},\"annotationdefaults\":{\"arrowcolor\":\"#2a3f5f\",\"arrowhead\":0,\"arrowwidth\":1},\"geo\":{\"bgcolor\":\"white\",\"landcolor\":\"#E5ECF6\",\"subunitcolor\":\"white\",\"showland\":true,\"showlakes\":true,\"lakecolor\":\"white\"},\"title\":{\"x\":0.05},\"mapbox\":{\"style\":\"light\"}}}},                        {\"responsive\": true}                    ).then(function(){\n",
       "                            \n",
       "var gd = document.getElementById('b11ee9e2-edbf-4d99-a895-41dd276bfc74');\n",
       "var x = new MutationObserver(function (mutations, observer) {{\n",
       "        var display = window.getComputedStyle(gd).display;\n",
       "        if (!display || display === 'none') {{\n",
       "            console.log([gd, 'removed!']);\n",
       "            Plotly.purge(gd);\n",
       "            observer.disconnect();\n",
       "        }}\n",
       "}});\n",
       "\n",
       "// Listen for the removal of the full notebook cells\n",
       "var notebookContainer = gd.closest('#notebook-container');\n",
       "if (notebookContainer) {{\n",
       "    x.observe(notebookContainer, {childList: true});\n",
       "}}\n",
       "\n",
       "// Listen for the clearing of the current output cell\n",
       "var outputEl = gd.closest('.output');\n",
       "if (outputEl) {{\n",
       "    x.observe(outputEl, {childList: true});\n",
       "}}\n",
       "\n",
       "                        })                };                });            </script>        </div>"
      ]
     },
     "metadata": {},
     "output_type": "display_data"
    }
   ],
   "source": [
    "#conditions = (best_runs['converged'] == 1.0) \n",
    "conditions = pd.Series([True] * len(best_runs), index=best_runs.index)\n",
    "filtered_runs = best_runs[conditions]\n",
    "\n",
    "dimensions = [{'label': col, 'values': filtered_runs[col]} for col in columns_to_plot]\n",
    "fig = go.Figure(data=\n",
    "    go.Parcoords(\n",
    "        line=dict(\n",
    "            #colorbar=dict(title_text='gamma', tickvals=np.arange(0,1.1,0.2)),\n",
    "            color=filtered_runs['gamma'], colorscale='TealRose', showscale=False), \n",
    "        dimensions=dimensions,\n",
    "        unselected=dict(line=dict(color='gray', opacity=0.08))\n",
    "    )\n",
    ")\n",
    "# Show the plot\n",
    "fig.show()"
   ]
  },
  {
   "cell_type": "code",
   "execution_count": 21,
   "id": "f22a23d2-982f-4b44-ba07-67d4bb288dd3",
   "metadata": {},
   "outputs": [],
   "source": [
    "pio.write_image(fig, 'parallel_plot_mutations_other_gammas.pdf', format='pdf', scale=1, width=400, height=300)\n",
    "pio.write_html(fig, file='parallel_plot_mutations_other_gammas.html', auto_open=False)"
   ]
  },
  {
   "cell_type": "markdown",
   "id": "ae964e45-277c-4683-bdf4-c862d7fa1b78",
   "metadata": {},
   "source": [
    "Note that, the order expected of the $I_c(Y\\mid \\mathit{do}(T))$ is respected. Namely, for $\\gamma_1 > \\gamma_2$, one has that the causal information gain for the encoder learned when $\\gamma = \\gamma_1$ is larger or equal to that of the encoder learned when $\\gamma = \\gamma_2$."
   ]
  }
 ],
 "metadata": {
  "kernelspec": {
   "display_name": "Python 3 (ipykernel)",
   "language": "python",
   "name": "python3"
  },
  "language_info": {
   "codemirror_mode": {
    "name": "ipython",
    "version": 3
   },
   "file_extension": ".py",
   "mimetype": "text/x-python",
   "name": "python",
   "nbconvert_exporter": "python",
   "pygments_lexer": "ipython3",
   "version": "3.10.12"
  }
 },
 "nbformat": 4,
 "nbformat_minor": 5
}
