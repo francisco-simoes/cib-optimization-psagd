{
 "cells": [
  {
   "cell_type": "code",
   "execution_count": 38,
   "id": "413f87c3-74d7-457a-95b4-a212b6e9fb9e",
   "metadata": {},
   "outputs": [],
   "source": [
    "import mlflow\n",
    "import pandas as pd\n",
    "import numpy as np\n",
    "import torch\n",
    "import matplotlib.pyplot as plt\n",
    "import plotly.express as px\n",
    "import plotly.io as pio\n",
    "import plotly.graph_objects as go\n",
    "from pgd_optim_pytorch._utils import filter_df\n",
    "%matplotlib inline"
   ]
  },
  {
   "cell_type": "code",
   "execution_count": 39,
   "id": "15028198-e9d7-4de2-abda-a360652414d6",
   "metadata": {},
   "outputs": [],
   "source": [
    "# Set the tracking URI to the directory containing the mlruns folder\n",
    "mlflow.set_tracking_uri(\"../../../mlruns\")"
   ]
  },
  {
   "cell_type": "markdown",
   "id": "75af9253-ad2a-4884-a135-6db2076b8629",
   "metadata": {},
   "source": [
    "# Confounded Addition - max gamma"
   ]
  },
  {
   "cell_type": "markdown",
   "id": "341cfd05-dffa-429c-acc0-d86bb159b2ec",
   "metadata": {},
   "source": [
    "We will check how frequently can pSAGD find the global minimum of the CIB when $\\gamma = 1$ and $r_Y = 0.1$.\n",
    "The chosen hyperparameters were: `lr = 1.0, 10.0`, `temperature = 10.0, 100.0` and `cooling_rate = 0.99`. "
   ]
  },
  {
   "cell_type": "markdown",
   "id": "25dca2df-5cea-4cfc-be15-0ea51a233948",
   "metadata": {},
   "source": [
    "# Load and pre-process the data"
   ]
  },
  {
   "cell_type": "code",
   "execution_count": 40,
   "id": "37ab2cae-215c-447f-ae85-182630f33760",
   "metadata": {},
   "outputs": [
    {
     "name": "stdout",
     "output_type": "stream",
     "text": [
      "865499003854706284\n"
     ]
    }
   ],
   "source": [
    "# Retrieve all runs from the experiment of interest\n",
    "experiment = mlflow.get_experiment_by_name(\"Confounded Addition - max gamma\")\n",
    "experiment_id = experiment.experiment_id\n",
    "print(experiment_id)"
   ]
  },
  {
   "cell_type": "code",
   "execution_count": 52,
   "id": "8814151e-ccc8-4079-8492-98dac7e64485",
   "metadata": {},
   "outputs": [
    {
     "name": "stdout",
     "output_type": "stream",
     "text": [
      "500\n",
      "Index(['run_id', 'experiment_id', 'status', 'artifact_uri', 'start_time',\n",
      "       'end_time', 'metrics.Expected optimal CIB loss', 'metrics.CIB loss',\n",
      "       'metrics.HY', 'metrics.diff_loss', 'metrics.converged',\n",
      "       'metrics.VI of T and T_', 'metrics.HcYdoT',\n",
      "       'metrics.Expected optimal HcYdoT', 'metrics.HT',\n",
      "       'metrics.Expected optimal HT', 'metrics.diff_q', 'metrics.penalty',\n",
      "       'metrics.Expected optimal HTcondX', 'metrics.HTcondX',\n",
      "       'metrics.Final CIB loss', 'params.max iter', 'params.lr',\n",
      "       'params.Expected optimal q', 'params.r_y', 'params.end_lr_factor',\n",
      "       'params.Learned q', 'params.temperature', 'params.eps', 'params.gamma',\n",
      "       'params.cooling rate', 'params.beta', 'tags.mlflow.source.name',\n",
      "       'tags.optimizer', 'tags.mlflow.source.type', 'tags.mlflow.runName',\n",
      "       'tags.mlflow.user', 'tags.mlflow.source.git.commit', 'tags.loss'],\n",
      "      dtype='object')\n"
     ]
    }
   ],
   "source": [
    "try:\n",
    "    runs_df = pd.read_csv('confounded_addition_max_gamma.csv')\n",
    "except FileNotFoundError:\n",
    "    # Extract df from mlflow directly\n",
    "    runs_df = mlflow.search_runs(experiment_ids=experiment_id, max_results=100000)\n",
    "    # Export the DataFrame to a CSV file\n",
    "    runs_df.to_csv('confounded_addition_max_gamma.csv', index=False)\n",
    "\n",
    "print(len(runs_df))\n",
    "print(runs_df.columns)"
   ]
  },
  {
   "cell_type": "code",
   "execution_count": 53,
   "id": "74989fcc-369a-4362-a0e2-683caf322130",
   "metadata": {},
   "outputs": [],
   "source": [
    "# Add duration metric\n",
    "runs_df['metrics.duration']=(pd.to_datetime(runs_df['end_time'], format='ISO8601') - pd.to_datetime(runs_df['start_time'], format='ISO8601')).dt.total_seconds()"
   ]
  },
  {
   "cell_type": "code",
   "execution_count": 54,
   "id": "fef87e69-1e34-4716-82eb-e184cfc0ab04",
   "metadata": {},
   "outputs": [],
   "source": [
    "# Only need some columns\n",
    "runs = runs_df[[\n",
    "      'metrics.duration',\n",
    "      'params.r_y',\n",
    "      'params.gamma',\n",
    "      'params.beta',\n",
    "      'params.lr',\n",
    "      'params.temperature',\n",
    "      'metrics.VI of T and T_',\n",
    "      'metrics.Final CIB loss',\n",
    "      'metrics.HT',\n",
    "      'metrics.HTcondX',\n",
    "      'metrics.HY',\n",
    "      'metrics.HcYdoT',\n",
    "      'metrics.converged',\n",
    "      'params.Learned q',\n",
    "      'tags.optimizer',\n",
    "      'tags.loss'\n",
    "]]"
   ]
  },
  {
   "cell_type": "code",
   "execution_count": 55,
   "id": "738acb28-aa6e-4e1f-9e4f-7a51d1b16155",
   "metadata": {},
   "outputs": [
    {
     "data": {
      "text/html": [
       "<div>\n",
       "<style scoped>\n",
       "    .dataframe tbody tr th:only-of-type {\n",
       "        vertical-align: middle;\n",
       "    }\n",
       "\n",
       "    .dataframe tbody tr th {\n",
       "        vertical-align: top;\n",
       "    }\n",
       "\n",
       "    .dataframe thead th {\n",
       "        text-align: right;\n",
       "    }\n",
       "</style>\n",
       "<table border=\"1\" class=\"dataframe\">\n",
       "  <thead>\n",
       "    <tr style=\"text-align: right;\">\n",
       "      <th></th>\n",
       "      <th>duration</th>\n",
       "      <th>r_y</th>\n",
       "      <th>gamma</th>\n",
       "      <th>beta</th>\n",
       "      <th>lr</th>\n",
       "      <th>temperature</th>\n",
       "      <th>VI of T and T_</th>\n",
       "      <th>Final CIB loss</th>\n",
       "      <th>HT</th>\n",
       "      <th>HTcondX</th>\n",
       "      <th>HY</th>\n",
       "      <th>HcYdoT</th>\n",
       "      <th>converged</th>\n",
       "      <th>Learned q</th>\n",
       "      <th>optimizer</th>\n",
       "      <th>loss</th>\n",
       "      <th>MI_XT</th>\n",
       "      <th>IcYdoT</th>\n",
       "    </tr>\n",
       "  </thead>\n",
       "  <tbody>\n",
       "    <tr>\n",
       "      <th>0</th>\n",
       "      <td>35.462</td>\n",
       "      <td>0.1</td>\n",
       "      <td>1.0</td>\n",
       "      <td>inf</td>\n",
       "      <td>1.0</td>\n",
       "      <td>10.0</td>\n",
       "      <td>3.935406e-08</td>\n",
       "      <td>-0.018044</td>\n",
       "      <td>1.561278</td>\n",
       "      <td>-0.0</td>\n",
       "      <td>1.36979</td>\n",
       "      <td>1.351747</td>\n",
       "      <td>1.0</td>\n",
       "      <td>tensor([[[0., 1.],\\n         [1., 0.]],\\n\\n   ...</td>\n",
       "      <td>SAGD</td>\n",
       "      <td>wCIB+penalty</td>\n",
       "      <td>1.561278</td>\n",
       "      <td>0.018044</td>\n",
       "    </tr>\n",
       "    <tr>\n",
       "      <th>1</th>\n",
       "      <td>39.354</td>\n",
       "      <td>0.1</td>\n",
       "      <td>1.0</td>\n",
       "      <td>inf</td>\n",
       "      <td>1.0</td>\n",
       "      <td>10.0</td>\n",
       "      <td>3.935406e-08</td>\n",
       "      <td>-0.018044</td>\n",
       "      <td>1.561278</td>\n",
       "      <td>-0.0</td>\n",
       "      <td>1.36979</td>\n",
       "      <td>1.351747</td>\n",
       "      <td>1.0</td>\n",
       "      <td>tensor([[[0., 0.],\\n         [0., 1.]],\\n\\n   ...</td>\n",
       "      <td>SAGD</td>\n",
       "      <td>wCIB+penalty</td>\n",
       "      <td>1.561278</td>\n",
       "      <td>0.018044</td>\n",
       "    </tr>\n",
       "    <tr>\n",
       "      <th>2</th>\n",
       "      <td>41.775</td>\n",
       "      <td>0.1</td>\n",
       "      <td>1.0</td>\n",
       "      <td>inf</td>\n",
       "      <td>1.0</td>\n",
       "      <td>10.0</td>\n",
       "      <td>3.935406e-08</td>\n",
       "      <td>-0.018044</td>\n",
       "      <td>1.561278</td>\n",
       "      <td>-0.0</td>\n",
       "      <td>1.36979</td>\n",
       "      <td>1.351747</td>\n",
       "      <td>1.0</td>\n",
       "      <td>tensor([[[0., 1.],\\n         [1., 0.]],\\n\\n   ...</td>\n",
       "      <td>SAGD</td>\n",
       "      <td>wCIB+penalty</td>\n",
       "      <td>1.561278</td>\n",
       "      <td>0.018044</td>\n",
       "    </tr>\n",
       "    <tr>\n",
       "      <th>3</th>\n",
       "      <td>37.877</td>\n",
       "      <td>0.1</td>\n",
       "      <td>1.0</td>\n",
       "      <td>inf</td>\n",
       "      <td>1.0</td>\n",
       "      <td>10.0</td>\n",
       "      <td>3.935406e-08</td>\n",
       "      <td>-0.018044</td>\n",
       "      <td>1.561278</td>\n",
       "      <td>-0.0</td>\n",
       "      <td>1.36979</td>\n",
       "      <td>1.351747</td>\n",
       "      <td>1.0</td>\n",
       "      <td>tensor([[[0., 0.],\\n         [0., 1.]],\\n\\n   ...</td>\n",
       "      <td>SAGD</td>\n",
       "      <td>wCIB+penalty</td>\n",
       "      <td>1.561278</td>\n",
       "      <td>0.018044</td>\n",
       "    </tr>\n",
       "    <tr>\n",
       "      <th>4</th>\n",
       "      <td>38.924</td>\n",
       "      <td>0.1</td>\n",
       "      <td>1.0</td>\n",
       "      <td>inf</td>\n",
       "      <td>1.0</td>\n",
       "      <td>10.0</td>\n",
       "      <td>3.935406e-08</td>\n",
       "      <td>-0.018044</td>\n",
       "      <td>1.561278</td>\n",
       "      <td>-0.0</td>\n",
       "      <td>1.36979</td>\n",
       "      <td>1.351747</td>\n",
       "      <td>1.0</td>\n",
       "      <td>tensor([[[0., 1.],\\n         [1., 0.]],\\n\\n   ...</td>\n",
       "      <td>SAGD</td>\n",
       "      <td>wCIB+penalty</td>\n",
       "      <td>1.561278</td>\n",
       "      <td>0.018044</td>\n",
       "    </tr>\n",
       "  </tbody>\n",
       "</table>\n",
       "</div>"
      ],
      "text/plain": [
       "   duration  r_y  gamma  beta   lr  temperature  VI of T and T_  \\\n",
       "0    35.462  0.1    1.0   inf  1.0         10.0    3.935406e-08   \n",
       "1    39.354  0.1    1.0   inf  1.0         10.0    3.935406e-08   \n",
       "2    41.775  0.1    1.0   inf  1.0         10.0    3.935406e-08   \n",
       "3    37.877  0.1    1.0   inf  1.0         10.0    3.935406e-08   \n",
       "4    38.924  0.1    1.0   inf  1.0         10.0    3.935406e-08   \n",
       "\n",
       "   Final CIB loss        HT  HTcondX       HY    HcYdoT  converged  \\\n",
       "0       -0.018044  1.561278     -0.0  1.36979  1.351747        1.0   \n",
       "1       -0.018044  1.561278     -0.0  1.36979  1.351747        1.0   \n",
       "2       -0.018044  1.561278     -0.0  1.36979  1.351747        1.0   \n",
       "3       -0.018044  1.561278     -0.0  1.36979  1.351747        1.0   \n",
       "4       -0.018044  1.561278     -0.0  1.36979  1.351747        1.0   \n",
       "\n",
       "                                           Learned q optimizer          loss  \\\n",
       "0  tensor([[[0., 1.],\\n         [1., 0.]],\\n\\n   ...      SAGD  wCIB+penalty   \n",
       "1  tensor([[[0., 0.],\\n         [0., 1.]],\\n\\n   ...      SAGD  wCIB+penalty   \n",
       "2  tensor([[[0., 1.],\\n         [1., 0.]],\\n\\n   ...      SAGD  wCIB+penalty   \n",
       "3  tensor([[[0., 0.],\\n         [0., 1.]],\\n\\n   ...      SAGD  wCIB+penalty   \n",
       "4  tensor([[[0., 1.],\\n         [1., 0.]],\\n\\n   ...      SAGD  wCIB+penalty   \n",
       "\n",
       "      MI_XT    IcYdoT  \n",
       "0  1.561278  0.018044  \n",
       "1  1.561278  0.018044  \n",
       "2  1.561278  0.018044  \n",
       "3  1.561278  0.018044  \n",
       "4  1.561278  0.018044  "
      ]
     },
     "execution_count": 55,
     "metadata": {},
     "output_type": "execute_result"
    }
   ],
   "source": [
    "# List of columns that should be float\n",
    "float_columns = ['params.r_y', 'params.gamma', 'params.beta', 'params.lr', 'params.temperature'] \n",
    "runs.loc[:, float_columns] = runs[float_columns].apply(pd.to_numeric, errors='raise')\n",
    "\n",
    "# Remove prefixes\n",
    "runs.columns = runs.columns.str.split('.').str[1]\n",
    "\n",
    "# Add MI, Ic columns\n",
    "runs.loc[:, ['MI_XT']] = runs['HT'] - runs['HTcondX']\n",
    "runs.loc[:, ['IcYdoT']] = runs['HY'] - runs['HcYdoT']\n",
    "runs.head()"
   ]
  },
  {
   "cell_type": "markdown",
   "id": "00ccb80c-6eb6-4d97-8be5-25e13fbafabb",
   "metadata": {},
   "source": [
    "## Frequencies for wCIB (no penalty)"
   ]
  },
  {
   "cell_type": "code",
   "execution_count": 57,
   "id": "9f760a55-47f3-4227-8596-dfd6790c1970",
   "metadata": {},
   "outputs": [],
   "source": [
    "df = filter_df(runs, optimizer='SAGD', loss='wCIB')\n",
    "# For each learning rate and temperature, compute success rate\n",
    "results = []"
   ]
  },
  {
   "cell_type": "code",
   "execution_count": 58,
   "id": "c9ff137c-d73e-4323-b0a1-e153bd4444d1",
   "metadata": {},
   "outputs": [
    {
     "name": "stdout",
     "output_type": "stream",
     "text": [
      "For lr=1.0e+00 and temperature=1.0e+01, the ground truth abstraction was found in 68 of the 100 runs.\n",
      "For lr=1.0e+01 and temperature=1.0e+01, the ground truth abstraction was found in 32 of the 100 runs.\n",
      "For lr=1.0e+00 and temperature=1.0e+02, the ground truth abstraction was found in 45 of the 100 runs.\n",
      "For lr=1.0e+01 and temperature=1.0e+02, the ground truth abstraction was found in 22 of the 100 runs.\n"
     ]
    },
    {
     "data": {
      "text/html": [
       "<div>\n",
       "<style scoped>\n",
       "    .dataframe tbody tr th:only-of-type {\n",
       "        vertical-align: middle;\n",
       "    }\n",
       "\n",
       "    .dataframe tbody tr th {\n",
       "        vertical-align: top;\n",
       "    }\n",
       "\n",
       "    .dataframe thead th {\n",
       "        text-align: right;\n",
       "    }\n",
       "</style>\n",
       "<table border=\"1\" class=\"dataframe\">\n",
       "  <thead>\n",
       "    <tr style=\"text-align: right;\">\n",
       "      <th></th>\n",
       "      <th>temperature</th>\n",
       "      <th>lr</th>\n",
       "      <th>success_rate</th>\n",
       "      <th>average_duration</th>\n",
       "    </tr>\n",
       "  </thead>\n",
       "  <tbody>\n",
       "    <tr>\n",
       "      <th>0</th>\n",
       "      <td>10.0</td>\n",
       "      <td>1.0</td>\n",
       "      <td>0.68</td>\n",
       "      <td>29.70671</td>\n",
       "    </tr>\n",
       "    <tr>\n",
       "      <th>1</th>\n",
       "      <td>10.0</td>\n",
       "      <td>10.0</td>\n",
       "      <td>0.32</td>\n",
       "      <td>10.06690</td>\n",
       "    </tr>\n",
       "    <tr>\n",
       "      <th>2</th>\n",
       "      <td>100.0</td>\n",
       "      <td>1.0</td>\n",
       "      <td>0.45</td>\n",
       "      <td>43.38643</td>\n",
       "    </tr>\n",
       "    <tr>\n",
       "      <th>3</th>\n",
       "      <td>100.0</td>\n",
       "      <td>10.0</td>\n",
       "      <td>0.22</td>\n",
       "      <td>18.68822</td>\n",
       "    </tr>\n",
       "  </tbody>\n",
       "</table>\n",
       "</div>"
      ],
      "text/plain": [
       "   temperature    lr  success_rate  average_duration\n",
       "0         10.0   1.0          0.68          29.70671\n",
       "1         10.0  10.0          0.32          10.06690\n",
       "2        100.0   1.0          0.45          43.38643\n",
       "3        100.0  10.0          0.22          18.68822"
      ]
     },
     "execution_count": 58,
     "metadata": {},
     "output_type": "execute_result"
    }
   ],
   "source": [
    "for temp in np.sort(df['temperature'].unique()):\n",
    "    for lr in np.sort(df['lr'].unique()):\n",
    "        df_fixedlrtemp = filter_df(df, lr=lr, temperature=temp)\n",
    "        try:\n",
    "            num_successful_runs = pd.Series.value_counts(df_fixedlrtemp['VI of T and T_'] < 1e-5).loc[True]\n",
    "        except KeyError: # No successful runs -> no True row.\n",
    "            num_successful_runs = 0\n",
    "        total_num_runs = len(df_fixedlrtemp)\n",
    "        print(f\"For lr={lr:.1e} and temperature={temp:.1e}, \"\n",
    "              + f\"the ground truth abstraction was found in {num_successful_runs} of the {total_num_runs} runs.\"\n",
    "        ) \n",
    "        success_rate = num_successful_runs / total_num_runs if total_num_runs > 0 else 0\n",
    "        average_duration = df_fixedlrtemp['duration'].mean()\n",
    "        results.append({'temperature': temp, 'lr': lr, 'success_rate': success_rate, 'average_duration': average_duration})\n",
    "    \n",
    "# Create a DataFrame from the results\n",
    "results_df = pd.DataFrame(results)\n",
    "results_df"
   ]
  },
  {
   "cell_type": "markdown",
   "id": "9fb769fe-341a-4f40-bbf3-505a3f8c9734",
   "metadata": {},
   "source": [
    "## Frequencies for wCIB+penalty"
   ]
  },
  {
   "cell_type": "markdown",
   "id": "9889b498-5931-459b-8f97-8710b066a764",
   "metadata": {},
   "source": [
    "Inspecting the incorrect learned encoders from the runs above revealed that many correspond to cases where some values of $T$ were not utilized.\n",
    "These are not global minima, but the results suggest they are local minima.\n",
    "We can avoid them explicitly by adding a penalty term (which we refer to as the \"non-surjectivity penalty\") to the wCIB, which penalizes the learner when it gets close to such local minima of the wCIB.\n",
    "We will take the best (temperature, lr) pair from the above hyperparameter search and use it to minimize the penalized version of the wCIB"
   ]
  },
  {
   "cell_type": "code",
   "execution_count": 59,
   "id": "4153c046-f95c-48c2-bae1-42478f59b13a",
   "metadata": {},
   "outputs": [],
   "source": [
    "df_pen = filter_df(runs, optimizer='SAGD', loss='wCIB+penalty')\n",
    "# For each learning rate and temperature, compute success rate\n",
    "results = []"
   ]
  },
  {
   "cell_type": "code",
   "execution_count": 60,
   "id": "7568bf2c-8853-4a96-9c69-9963c4056d56",
   "metadata": {},
   "outputs": [
    {
     "name": "stdout",
     "output_type": "stream",
     "text": [
      "For lr=1.0e+00 and temperature=1.0e+01, the ground truth abstraction was found in 98 of the 100 runs.\n"
     ]
    },
    {
     "data": {
      "text/html": [
       "<div>\n",
       "<style scoped>\n",
       "    .dataframe tbody tr th:only-of-type {\n",
       "        vertical-align: middle;\n",
       "    }\n",
       "\n",
       "    .dataframe tbody tr th {\n",
       "        vertical-align: top;\n",
       "    }\n",
       "\n",
       "    .dataframe thead th {\n",
       "        text-align: right;\n",
       "    }\n",
       "</style>\n",
       "<table border=\"1\" class=\"dataframe\">\n",
       "  <thead>\n",
       "    <tr style=\"text-align: right;\">\n",
       "      <th></th>\n",
       "      <th>temperature</th>\n",
       "      <th>lr</th>\n",
       "      <th>success_rate</th>\n",
       "      <th>average_duration</th>\n",
       "    </tr>\n",
       "  </thead>\n",
       "  <tbody>\n",
       "    <tr>\n",
       "      <th>0</th>\n",
       "      <td>10.0</td>\n",
       "      <td>1.0</td>\n",
       "      <td>0.98</td>\n",
       "      <td>38.95463</td>\n",
       "    </tr>\n",
       "  </tbody>\n",
       "</table>\n",
       "</div>"
      ],
      "text/plain": [
       "   temperature   lr  success_rate  average_duration\n",
       "0         10.0  1.0          0.98          38.95463"
      ]
     },
     "execution_count": 60,
     "metadata": {},
     "output_type": "execute_result"
    }
   ],
   "source": [
    "for temp in np.sort(df_pen['temperature'].unique()):\n",
    "    for lr in np.sort(df_pen['lr'].unique()):\n",
    "        df_fixedlrtemp = filter_df(df_pen, lr=lr, temperature=temp)\n",
    "        try:\n",
    "            num_successful_runs = pd.Series.value_counts(df_fixedlrtemp['VI of T and T_'] < 1e-5).loc[True]\n",
    "        except KeyError: # No successful runs -> no True row.\n",
    "            num_successful_runs = 0\n",
    "        total_num_runs = len(df_fixedlrtemp)\n",
    "        print(f\"For lr={lr:.1e} and temperature={temp:.1e}, \"\n",
    "              + f\"the ground truth abstraction was found in {num_successful_runs} of the {total_num_runs} runs.\"\n",
    "        ) \n",
    "        success_rate = num_successful_runs / total_num_runs if total_num_runs > 0 else 0\n",
    "        average_duration = df_fixedlrtemp['duration'].mean()\n",
    "        results.append({'temperature': temp, 'lr': lr, 'success_rate': success_rate, 'average_duration': average_duration})\n",
    "    \n",
    "# Create a DataFrame from the results\n",
    "results_df = pd.DataFrame(results)\n",
    "results_df"
   ]
  },
  {
   "cell_type": "markdown",
   "id": "9d9a7e2c-ba40-4a40-829c-d5c711f32874",
   "metadata": {},
   "source": [
    "### Conclusion"
   ]
  },
  {
   "cell_type": "markdown",
   "id": "8257cdc4-8dbb-4782-888a-877a63d2747d",
   "metadata": {},
   "source": [
    "For $\\gamma = 1$, a temperature of 10 and lr of 1.0 results in an estimated success rate of 0.98, as long as one uses a non-surjectivity penalty."
   ]
  }
 ],
 "metadata": {
  "kernelspec": {
   "display_name": "Python 3 (ipykernel)",
   "language": "python",
   "name": "python3"
  },
  "language_info": {
   "codemirror_mode": {
    "name": "ipython",
    "version": 3
   },
   "file_extension": ".py",
   "mimetype": "text/x-python",
   "name": "python",
   "nbconvert_exporter": "python",
   "pygments_lexer": "ipython3",
   "version": "3.10.12"
  }
 },
 "nbformat": 4,
 "nbformat_minor": 5
}
